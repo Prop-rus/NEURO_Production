{
  "nbformat": 4,
  "nbformat_minor": 0,
  "metadata": {
    "colab": {
      "name": "ДЗ34 LIGHT Власов АЛ.ipynb",
      "provenance": [],
      "collapsed_sections": []
    },
    "kernelspec": {
      "display_name": "Python 3",
      "language": "python",
      "name": "python3"
    },
    "language_info": {
      "codemirror_mode": {
        "name": "ipython",
        "version": 3
      },
      "file_extension": ".py",
      "mimetype": "text/x-python",
      "name": "python",
      "nbconvert_exporter": "python",
      "pygments_lexer": "ipython3",
      "version": "3.7.9"
    }
  },
  "cells": [
    {
      "cell_type": "markdown",
      "metadata": {
        "id": "SOWxXS5kXBcN"
      },
      "source": [
        "*Теоретический материал:* https://youtu.be/sOTh6klME_M?t=139"
      ]
    },
    {
      "cell_type": "markdown",
      "metadata": {
        "id": "LgQWu_uYXJiO"
      },
      "source": [
        "*Разбор данного раздела:* https://youtu.be/sOTh6klME_M?t=3344"
      ]
    },
    {
      "cell_type": "code",
      "metadata": {
        "id": "WxNb-uB9WaCt"
      },
      "source": [
        "from flask import Flask # Импортируем модуль Flask "
      ],
      "execution_count": null,
      "outputs": []
    },
    {
      "cell_type": "code",
      "metadata": {
        "id": "dkoLT7nHWaCv"
      },
      "source": [
        "app = Flask(__name__) # Создаем экземпляр Flask (аргумнтом передается имя модуля или пакета)"
      ],
      "execution_count": null,
      "outputs": []
    },
    {
      "cell_type": "code",
      "metadata": {
        "id": "f9cetUfoWaCx"
      },
      "source": [
        "@app.route('/') # Декоратор, указывает, что URL будет вызывать нашу функцию\n",
        "def hello(): # Задаем функцию для вывода сообщения\n",
        "    return 'Hello, WORLD!!!'"
      ],
      "execution_count": null,
      "outputs": []
    },
    {
      "cell_type": "code",
      "metadata": {
        "id": "97o5Td2CWaCz"
      },
      "source": [
        "import threading # Импортируем модуль threading для запуска в отдельном потоке"
      ],
      "execution_count": null,
      "outputs": []
    },
    {
      "cell_type": "code",
      "metadata": {
        "id": "TjLPiL97WaC1",
        "outputId": "7fdbe9a3-b6a8-40d1-b9de-669f6ba7826c"
      },
      "source": [
        "threading.Thread(target = app.run, kwargs = {'host' : 'localhost', 'port':5000}).start() # Запускаем в отдельном потоке метод app.run, который запускает локальный сервер"
      ],
      "execution_count": null,
      "outputs": [
        {
          "output_type": "stream",
          "text": [
            " * Serving Flask app \"__main__\" (lazy loading)\n",
            " * Environment: production\n",
            "\u001b[31m   WARNING: This is a development server. Do not use it in a production deployment.\u001b[0m\n",
            "\u001b[2m   Use a production WSGI server instead.\u001b[0m\n",
            " * Debug mode: off\n"
          ],
          "name": "stdout"
        },
        {
          "output_type": "stream",
          "text": [
            " * Running on http://localhost:5000/ (Press CTRL+C to quit)\n"
          ],
          "name": "stderr"
        }
      ]
    },
    {
      "cell_type": "code",
      "metadata": {
        "id": "_c9aSs2yWaC3"
      },
      "source": [
        "import requests # Библиотека для HTTP-запросов"
      ],
      "execution_count": null,
      "outputs": []
    },
    {
      "cell_type": "code",
      "metadata": {
        "id": "Qk6NWoXjWaC5",
        "outputId": "88f95ae7-9192-4e17-d46d-c53b5ae55fb5"
      },
      "source": [
        "r = requests.get('http://localhost:5000') # Запрашиваем данные с локального сервера по порту 5000\n",
        "print(r.status_code) # Статус ответа\n",
        "print(r.encoding) # Кодировка после декодирования\n",
        "print(r.apparent_encoding) # Текущая кодировка\n",
        "print(r.text) # Соержимое страницы"
      ],
      "execution_count": null,
      "outputs": [
        {
          "output_type": "stream",
          "text": [
            "127.0.0.1 - - [10/Feb/2021 19:20:17] \"\u001b[37mGET / HTTP/1.1\u001b[0m\" 200 -\n"
          ],
          "name": "stderr"
        },
        {
          "output_type": "stream",
          "text": [
            "200\n",
            "utf-8\n",
            "ascii\n",
            "Hello, WORLD!!!\n"
          ],
          "name": "stdout"
        }
      ]
    },
    {
      "cell_type": "markdown",
      "metadata": {
        "id": "AU-cskKZLR_y"
      },
      "source": [
        "# LIGHT"
      ]
    },
    {
      "cell_type": "markdown",
      "metadata": {
        "id": "qO6wO2ILLUMs"
      },
      "source": [
        "Немного изменил и дообучил модель, чтобы на тестовой выборке был лучший результат.\n",
        "Исправления в предикт внес, теперь модель предсказывает как положено.\n",
        "Внизу есть ссылки на скриншоты веб-страницы"
      ]
    },
    {
      "cell_type": "code",
      "metadata": {
        "id": "rBm2hL2pWaC8"
      },
      "source": [
        "import tensorflow\n",
        "from tensorflow.keras.models import Sequential\n",
        "from tensorflow.keras.layers import Dense, Dropout, Flatten\n",
        "from tensorflow.keras.layers import Conv2D, MaxPooling2D\n",
        "from tensorflow.keras import backend as K"
      ],
      "execution_count": null,
      "outputs": []
    },
    {
      "cell_type": "code",
      "metadata": {
        "id": "CgctaD-0WaC9",
        "outputId": "b3dab4c6-110e-4d22-aae0-0661df5d546f"
      },
      "source": [
        "# Загружаем MNIST\n",
        "from tensorflow.keras.datasets import mnist\n",
        "\n",
        "(x_train, y_train), (x_test, y_test) = mnist.load_data()\n",
        "\n",
        "x_train = x_train.reshape(x_train.shape[0], 28, 28, 1)\n",
        "x_test = x_test.reshape(x_test.shape[0], 28, 28, 1)\n",
        "input_shape = (28, 28, 1)\n",
        "\n",
        "# Нормализуем значения пикспелей (от 0 до 1)\n",
        "x_train = x_train.astype('float32')\n",
        "x_test = x_test.astype('float32')\n",
        "x_train /= 255\n",
        "x_test /= 255\n",
        "\n",
        "# Приводим лейблы к формату One Hot\n",
        "y_train = tensorflow.keras.utils.to_categorical(y_train, 10)\n",
        "y_test = tensorflow.keras.utils.to_categorical(y_test, 10)\n",
        "\n",
        "print(x_train.shape, y_train.shape)"
      ],
      "execution_count": null,
      "outputs": [
        {
          "output_type": "stream",
          "text": [
            "(60000, 28, 28, 1) (60000, 10)\n"
          ],
          "name": "stdout"
        }
      ]
    },
    {
      "cell_type": "code",
      "metadata": {
        "id": "v1925JLnWaC_"
      },
      "source": [
        "model = Sequential()\n",
        "model.add(Conv2D(64, kernel_size=(2, 2),\n",
        "                 activation='relu',\n",
        "                 input_shape=input_shape))\n",
        "model.add(Conv2D(32, (2, 2), activation='relu'))\n",
        "model.add(MaxPooling2D(pool_size=(2, 2)))\n",
        "# model.add(Dropout(0.25))\n",
        "model.add(Flatten())\n",
        "model.add(Dense(128, activation='relu'))\n",
        "# model.add(Dropout(0.5))\n",
        "model.add(Dense(10, activation='softmax'))\n",
        "\n",
        "model.compile(loss=tensorflow.keras.losses.categorical_crossentropy,\n",
        "              optimizer=tensorflow.keras.optimizers.Adadelta(),\n",
        "              metrics=['accuracy'])"
      ],
      "execution_count": null,
      "outputs": []
    },
    {
      "cell_type": "code",
      "metadata": {
        "id": "UsJs6pyKWaDB",
        "outputId": "ccfd477b-8b09-4669-8f39-a890f3dd7ce9"
      },
      "source": [
        "model.fit(x_train, y_train,\n",
        "          batch_size=128,\n",
        "          epochs=50,\n",
        "          verbose=1,\n",
        "          validation_data=(x_test, y_test))\n",
        "\n",
        "# Результат модели\n",
        "score = model.evaluate(x_test, y_test, verbose=0)\n",
        "print('Test loss:', score[0])\n",
        "print('Test accuracy:', score[1])\n",
        "\n",
        "\n",
        "# Сохраняем саму модель\n",
        "# Сериализация в JSON\n",
        "model_json = model.to_json()\n",
        "with open(\"model.json\", \"w\") as json_file:\n",
        "    json_file.write(model_json)\n",
        "# Сохраняем(сериализуем) веса  в формате HDF5\n",
        "model.save_weights(\"model.h5\")\n",
        "print(\"Сохранено\")"
      ],
      "execution_count": null,
      "outputs": [
        {
          "output_type": "stream",
          "text": [
            "Epoch 1/50\n",
            "469/469 [==============================] - 2s 4ms/step - loss: 2.2122 - accuracy: 0.5005 - val_loss: 2.1792 - val_accuracy: 0.5685\n",
            "Epoch 2/50\n",
            "469/469 [==============================] - 2s 4ms/step - loss: 2.1406 - accuracy: 0.6117 - val_loss: 2.0908 - val_accuracy: 0.6303\n",
            "Epoch 3/50\n",
            "469/469 [==============================] - 2s 4ms/step - loss: 2.0328 - accuracy: 0.6506 - val_loss: 1.9573 - val_accuracy: 0.6621\n",
            "Epoch 4/50\n",
            "469/469 [==============================] - 2s 4ms/step - loss: 1.8731 - accuracy: 0.6761 - val_loss: 1.7647 - val_accuracy: 0.6849\n",
            "Epoch 5/50\n",
            "469/469 [==============================] - 2s 4ms/step - loss: 1.6553 - accuracy: 0.6957 - val_loss: 1.5181 - val_accuracy: 0.7143\n",
            "Epoch 6/50\n",
            "469/469 [==============================] - 2s 4ms/step - loss: 1.4003 - accuracy: 0.7244 - val_loss: 1.2553 - val_accuracy: 0.7479\n",
            "Epoch 7/50\n",
            "469/469 [==============================] - 2s 4ms/step - loss: 1.1552 - accuracy: 0.7557 - val_loss: 1.0282 - val_accuracy: 0.7784\n",
            "Epoch 8/50\n",
            "469/469 [==============================] - 2s 4ms/step - loss: 0.9588 - accuracy: 0.7810 - val_loss: 0.8590 - val_accuracy: 0.8026\n",
            "Epoch 9/50\n",
            "469/469 [==============================] - 2s 4ms/step - loss: 0.8174 - accuracy: 0.8022 - val_loss: 0.7406 - val_accuracy: 0.8216\n",
            "Epoch 10/50\n",
            "469/469 [==============================] - 2s 4ms/step - loss: 0.7177 - accuracy: 0.8170 - val_loss: 0.6573 - val_accuracy: 0.8357\n",
            "Epoch 11/50\n",
            "469/469 [==============================] - 2s 4ms/step - loss: 0.6460 - accuracy: 0.8310 - val_loss: 0.5963 - val_accuracy: 0.8488\n",
            "Epoch 12/50\n",
            "469/469 [==============================] - 2s 5ms/step - loss: 0.5925 - accuracy: 0.8422 - val_loss: 0.5505 - val_accuracy: 0.8579\n",
            "Epoch 13/50\n",
            "469/469 [==============================] - 2s 4ms/step - loss: 0.5514 - accuracy: 0.8510 - val_loss: 0.5148 - val_accuracy: 0.8680\n",
            "Epoch 14/50\n",
            "469/469 [==============================] - 2s 4ms/step - loss: 0.5189 - accuracy: 0.8594 - val_loss: 0.4866 - val_accuracy: 0.8738\n",
            "Epoch 15/50\n",
            "469/469 [==============================] - 2s 4ms/step - loss: 0.4928 - accuracy: 0.8662 - val_loss: 0.4635 - val_accuracy: 0.8781\n",
            "Epoch 16/50\n",
            "469/469 [==============================] - 2s 4ms/step - loss: 0.4713 - accuracy: 0.8715 - val_loss: 0.4445 - val_accuracy: 0.8825\n",
            "Epoch 17/50\n",
            "469/469 [==============================] - 2s 4ms/step - loss: 0.4534 - accuracy: 0.8754 - val_loss: 0.4287 - val_accuracy: 0.8869\n",
            "Epoch 18/50\n",
            "469/469 [==============================] - 2s 4ms/step - loss: 0.4384 - accuracy: 0.8796 - val_loss: 0.4152 - val_accuracy: 0.8895\n",
            "Epoch 19/50\n",
            "469/469 [==============================] - 2s 5ms/step - loss: 0.4254 - accuracy: 0.8824 - val_loss: 0.4034 - val_accuracy: 0.8923\n",
            "Epoch 20/50\n",
            "469/469 [==============================] - 2s 4ms/step - loss: 0.4140 - accuracy: 0.8849 - val_loss: 0.3931 - val_accuracy: 0.8944\n",
            "Epoch 21/50\n",
            "469/469 [==============================] - 2s 5ms/step - loss: 0.4040 - accuracy: 0.8872 - val_loss: 0.3840 - val_accuracy: 0.8971\n",
            "Epoch 22/50\n",
            "469/469 [==============================] - 2s 4ms/step - loss: 0.3950 - accuracy: 0.8891 - val_loss: 0.3758 - val_accuracy: 0.8986\n",
            "Epoch 23/50\n",
            "469/469 [==============================] - 2s 4ms/step - loss: 0.3870 - accuracy: 0.8911 - val_loss: 0.3685 - val_accuracy: 0.8999\n",
            "Epoch 24/50\n",
            "469/469 [==============================] - 2s 5ms/step - loss: 0.3798 - accuracy: 0.8932 - val_loss: 0.3618 - val_accuracy: 0.9015\n",
            "Epoch 25/50\n",
            "469/469 [==============================] - 2s 5ms/step - loss: 0.3732 - accuracy: 0.8944 - val_loss: 0.3556 - val_accuracy: 0.9026\n",
            "Epoch 26/50\n",
            "469/469 [==============================] - 2s 5ms/step - loss: 0.3671 - accuracy: 0.8961 - val_loss: 0.3500 - val_accuracy: 0.9046\n",
            "Epoch 27/50\n",
            "469/469 [==============================] - 2s 5ms/step - loss: 0.3615 - accuracy: 0.8978 - val_loss: 0.3450 - val_accuracy: 0.9057\n",
            "Epoch 28/50\n",
            "469/469 [==============================] - 2s 4ms/step - loss: 0.3563 - accuracy: 0.8992 - val_loss: 0.3402 - val_accuracy: 0.9074\n",
            "Epoch 29/50\n",
            "469/469 [==============================] - 2s 4ms/step - loss: 0.3516 - accuracy: 0.8999 - val_loss: 0.3356 - val_accuracy: 0.9089\n",
            "Epoch 30/50\n",
            "469/469 [==============================] - 2s 4ms/step - loss: 0.3471 - accuracy: 0.9009 - val_loss: 0.3313 - val_accuracy: 0.9088\n",
            "Epoch 31/50\n",
            "469/469 [==============================] - 2s 4ms/step - loss: 0.3429 - accuracy: 0.9022 - val_loss: 0.3274 - val_accuracy: 0.9096\n",
            "Epoch 32/50\n",
            "469/469 [==============================] - 2s 4ms/step - loss: 0.3389 - accuracy: 0.9033 - val_loss: 0.3235 - val_accuracy: 0.9105\n",
            "Epoch 33/50\n",
            "469/469 [==============================] - 2s 4ms/step - loss: 0.3352 - accuracy: 0.9042 - val_loss: 0.3200 - val_accuracy: 0.9112\n",
            "Epoch 34/50\n",
            "469/469 [==============================] - 2s 4ms/step - loss: 0.3316 - accuracy: 0.9054 - val_loss: 0.3169 - val_accuracy: 0.9120\n",
            "Epoch 35/50\n",
            "469/469 [==============================] - 2s 5ms/step - loss: 0.3282 - accuracy: 0.9059 - val_loss: 0.3138 - val_accuracy: 0.9119\n",
            "Epoch 36/50\n",
            "469/469 [==============================] - 2s 4ms/step - loss: 0.3251 - accuracy: 0.9069 - val_loss: 0.3107 - val_accuracy: 0.9129\n",
            "Epoch 37/50\n",
            "469/469 [==============================] - 2s 4ms/step - loss: 0.3220 - accuracy: 0.9078 - val_loss: 0.3079 - val_accuracy: 0.9136\n",
            "Epoch 38/50\n",
            "469/469 [==============================] - 2s 4ms/step - loss: 0.3191 - accuracy: 0.9087 - val_loss: 0.3050 - val_accuracy: 0.9144\n",
            "Epoch 39/50\n",
            "469/469 [==============================] - 2s 4ms/step - loss: 0.3163 - accuracy: 0.9096 - val_loss: 0.3024 - val_accuracy: 0.9148\n",
            "Epoch 40/50\n",
            "469/469 [==============================] - 2s 4ms/step - loss: 0.3137 - accuracy: 0.9100 - val_loss: 0.2999 - val_accuracy: 0.9147\n",
            "Epoch 41/50\n",
            "469/469 [==============================] - 2s 4ms/step - loss: 0.3111 - accuracy: 0.9106 - val_loss: 0.2976 - val_accuracy: 0.9161\n",
            "Epoch 42/50\n",
            "469/469 [==============================] - 2s 4ms/step - loss: 0.3086 - accuracy: 0.9113 - val_loss: 0.2951 - val_accuracy: 0.9164\n",
            "Epoch 43/50\n",
            "469/469 [==============================] - 2s 4ms/step - loss: 0.3062 - accuracy: 0.9124 - val_loss: 0.2929 - val_accuracy: 0.9171\n",
            "Epoch 44/50\n",
            "469/469 [==============================] - 2s 4ms/step - loss: 0.3039 - accuracy: 0.9131 - val_loss: 0.2905 - val_accuracy: 0.9179\n",
            "Epoch 45/50\n",
            "469/469 [==============================] - 2s 4ms/step - loss: 0.3016 - accuracy: 0.9134 - val_loss: 0.2886 - val_accuracy: 0.9178\n",
            "Epoch 46/50\n",
            "469/469 [==============================] - 2s 4ms/step - loss: 0.2994 - accuracy: 0.9138 - val_loss: 0.2865 - val_accuracy: 0.9180\n",
            "Epoch 47/50\n",
            "469/469 [==============================] - 2s 5ms/step - loss: 0.2973 - accuracy: 0.9145 - val_loss: 0.2844 - val_accuracy: 0.9190\n",
            "Epoch 48/50\n",
            "469/469 [==============================] - 2s 4ms/step - loss: 0.2952 - accuracy: 0.9150 - val_loss: 0.2825 - val_accuracy: 0.9195\n",
            "Epoch 49/50\n",
            "469/469 [==============================] - 2s 4ms/step - loss: 0.2932 - accuracy: 0.9158 - val_loss: 0.2805 - val_accuracy: 0.9196\n",
            "Epoch 50/50\n",
            "469/469 [==============================] - 2s 4ms/step - loss: 0.2913 - accuracy: 0.9163 - val_loss: 0.2788 - val_accuracy: 0.9199\n",
            "Test loss: 0.2787829339504242\n",
            "Test accuracy: 0.9199000000953674\n",
            "Сохранено\n"
          ],
          "name": "stdout"
        }
      ]
    },
    {
      "cell_type": "code",
      "metadata": {
        "id": "S9SqmC03WaDC"
      },
      "source": [
        "from flask import Flask, request # request - это объекты, которыми управляет flask handles (get, set, post и т.д.)\n",
        "from flask import render_template # этот объект автоматически зарендерит нам шаблон html\n",
        "import imageio # для работы с изображениями\n",
        "import numpy as np\n",
        "import tensorflow.keras.models\n",
        "import re # регулярные питоновские выражения\n",
        "from tensorflow.keras.models import model_from_json\n",
        "import sys \n",
        "import os\n",
        "from tensorflow.keras.preprocessing import image\n",
        "# Задаем имя серверу\n",
        "app = Flask(__name__)\n",
        "\n",
        "import tensorflow as tf\n",
        "import base64 # универсальный формат кодирования (часто используется с изображениями)\n"
      ],
      "execution_count": null,
      "outputs": []
    },
    {
      "cell_type": "code",
      "metadata": {
        "id": "W-Gff75kWaDE",
        "scrolled": true,
        "outputId": "32b50728-7338-41e2-a38b-8c836208b9f6"
      },
      "source": [
        "# Открываем json файл разметки модели\n",
        "json_file = open('model.json','r') \n",
        "loaded_model_json = json_file.read() # считываем\n",
        "json_file.close() # закрываем\n",
        "loaded_model = model_from_json(loaded_model_json) # используем керас, чтобы считать разметку архитектуры\n",
        "loaded_model.summary()"
      ],
      "execution_count": null,
      "outputs": [
        {
          "output_type": "stream",
          "text": [
            "Model: \"sequential_1\"\n",
            "_________________________________________________________________\n",
            "Layer (type)                 Output Shape              Param #   \n",
            "=================================================================\n",
            "conv2d_2 (Conv2D)            (None, 27, 27, 64)        320       \n",
            "_________________________________________________________________\n",
            "conv2d_3 (Conv2D)            (None, 26, 26, 32)        8224      \n",
            "_________________________________________________________________\n",
            "max_pooling2d_1 (MaxPooling2 (None, 13, 13, 32)        0         \n",
            "_________________________________________________________________\n",
            "flatten_1 (Flatten)          (None, 5408)              0         \n",
            "_________________________________________________________________\n",
            "dense_2 (Dense)              (None, 128)               692352    \n",
            "_________________________________________________________________\n",
            "dense_3 (Dense)              (None, 10)                1290      \n",
            "=================================================================\n",
            "Total params: 702,186\n",
            "Trainable params: 702,186\n",
            "Non-trainable params: 0\n",
            "_________________________________________________________________\n"
          ],
          "name": "stdout"
        }
      ]
    },
    {
      "cell_type": "code",
      "metadata": {
        "id": "qNRAYhN1WaDG",
        "outputId": "9472c250-5aab-4a8e-82a5-f5a8eb31e0e9"
      },
      "source": [
        "loaded_model.load_weights(\"model.h5\") # подгружаем веса\n",
        "print(\"Загружено с диска\")"
      ],
      "execution_count": null,
      "outputs": [
        {
          "output_type": "stream",
          "text": [
            "Загружено с диска\n"
          ],
          "name": "stdout"
        }
      ]
    },
    {
      "cell_type": "code",
      "metadata": {
        "id": "FbPij0eeWaDH",
        "outputId": "78923732-f235-4d88-c043-dc167497968b"
      },
      "source": [
        "# компилируем модель\n",
        "loaded_model.compile(loss='categorical_crossentropy',optimizer='adam',metrics=['accuracy'])\n",
        "\n",
        "# оценим ее точность еще раз\n",
        "loss,accuracy = loaded_model.evaluate(x_test,y_test)\n",
        "print('accuracy:', accuracy)"
      ],
      "execution_count": null,
      "outputs": [
        {
          "output_type": "stream",
          "text": [
            "313/313 [==============================] - 0s 1ms/step - loss: 0.2788 - accuracy: 0.9199\n",
            "accuracy: 0.9199000000953674\n"
          ],
          "name": "stdout"
        }
      ]
    },
    {
      "cell_type": "code",
      "metadata": {
        "id": "CGlz2bcxWaDJ"
      },
      "source": [
        "# декодируем изображение из сырого(бинарного) представления в его base64 \n",
        "def convertImage(imgData1):\n",
        "    imgstr = re.search(b'base64,(.*)',imgData1).group(1) # находим строчку, в которой содержится побитовое представление изображение,\n",
        "                                                        # возвращает вторую(1) подгруппу\n",
        "    with open('output.png','wb') as output: # временный файл, в который записываем декодированное представление\n",
        "        output.write(base64.b64decode(imgstr))"
      ],
      "execution_count": null,
      "outputs": []
    },
    {
      "cell_type": "code",
      "metadata": {
        "id": "OHzmdsuXWaDL"
      },
      "source": [
        "# # Указываем адрес по которому будет откликаться Web сервис и задаем саму функцию веб сервиса. Это наша стартовая страница\n",
        "@app.route('/')\n",
        "@app.route('/index')\n",
        "def index():\n",
        "    # рендерим заранее построенный HTML файл\n",
        "    return render_template(\"index.html\")"
      ],
      "execution_count": null,
      "outputs": []
    },
    {
      "cell_type": "code",
      "metadata": {
        "id": "Yl0kyMJ0WaDN"
      },
      "source": [
        "# маршрут, по которому будет идти предсказание\n",
        "@app.route('/predict/',methods=['GET','POST'])\n",
        "def predict():\n",
        "    # в любой момент, когда пользователь вызовет predict\n",
        "    # после того, как нарисовал картинку, произойдет\n",
        "    # inference/внедрение, вернется результат классификации\n",
        "    \n",
        "    # получить сырой формат изображения (этот метод объекта Flask)\n",
        "    imgData = request.get_data()\n",
        "    \n",
        "    # кодируем в подходящий формат\n",
        "    convertImage(imgData)\n",
        "    print (\"debug\")\n",
        "    # считываем изображение в память\n",
        "    img = image.load_img('output.png', target_size=(28,28), color_mode = 'grayscale')\n",
        "    sample = np.array(img)\n",
        "    sample = np.reshape(sample, (1, 28, 28, 1))\n",
        "    \n",
        "    sample = sample.astype('float32')  \n",
        "    sample /= 255\n",
        "    sample = 1 - sample\n",
        "    out = loaded_model.predict(sample)\n",
        "    print (\"debug2\")               \n",
        "    print(out)\n",
        "    print(np.argmax(out,axis=1))\n",
        "    print (\"debug3\")\n",
        "\n",
        "# преобразуем ответ в строку\n",
        "    response = np.array_str(np.argmax(out,axis=1))\n",
        "    return response\n",
        "        # обнуляем граф, чтобы можно было ввести новые данные\n",
        "    #tf.reset_default_graph()"
      ],
      "execution_count": null,
      "outputs": []
    },
    {
      "cell_type": "code",
      "metadata": {
        "id": "ckMdIB9sWaDQ",
        "outputId": "29ef743f-23be-41ec-bc9f-95a95dc3f555"
      },
      "source": [
        "#if __name__ == \"__main__\":\n",
        "    # этот порт \n",
        "# выделяем под прогонку\n",
        "port = int(os.environ.get('PORT', 5002))\n",
        "    \n",
        "    # прогоняем на локальном сервере по заданному порту\n",
        "app.run(host='127.0.1.1', port=port, threaded=False)    \n",
        "    # опционально, если хотите прогнать в режиме дебага\n",
        "    #app.run(debug=True)"
      ],
      "execution_count": null,
      "outputs": [
        {
          "output_type": "stream",
          "text": [
            " * Serving Flask app \"__main__\" (lazy loading)\n",
            " * Environment: production\n",
            "\u001b[31m   WARNING: This is a development server. Do not use it in a production deployment.\u001b[0m\n",
            "\u001b[2m   Use a production WSGI server instead.\u001b[0m\n",
            " * Debug mode: off\n"
          ],
          "name": "stdout"
        },
        {
          "output_type": "stream",
          "text": [
            " * Running on http://127.0.1.1:5002/ (Press CTRL+C to quit)\n",
            "127.0.0.1 - - [10/Feb/2021 22:15:12] \"\u001b[37mGET / HTTP/1.1\u001b[0m\" 200 -\n",
            "127.0.0.1 - - [10/Feb/2021 22:15:15] \"\u001b[37mPOST /predict/ HTTP/1.1\u001b[0m\" 200 -\n"
          ],
          "name": "stderr"
        },
        {
          "output_type": "stream",
          "text": [
            "debug\n",
            "debug2\n",
            "[[0.02164573 0.02487723 0.10147759 0.03190246 0.0240628  0.30421692\n",
            "  0.09399462 0.01927641 0.24955131 0.12899497]]\n",
            "[5]\n",
            "debug3\n"
          ],
          "name": "stdout"
        },
        {
          "output_type": "stream",
          "text": [
            "127.0.0.1 - - [10/Feb/2021 22:15:19] \"\u001b[37mPOST /predict/ HTTP/1.1\u001b[0m\" 200 -\n"
          ],
          "name": "stderr"
        },
        {
          "output_type": "stream",
          "text": [
            "debug\n",
            "debug2\n",
            "[[0.0008247  0.06062439 0.02387094 0.00821761 0.7145198  0.06292248\n",
            "  0.0588288  0.00232022 0.03426072 0.03361034]]\n",
            "[4]\n",
            "debug3\n"
          ],
          "name": "stdout"
        },
        {
          "output_type": "stream",
          "text": [
            "127.0.0.1 - - [10/Feb/2021 22:15:23] \"\u001b[37mPOST /predict/ HTTP/1.1\u001b[0m\" 200 -\n"
          ],
          "name": "stderr"
        },
        {
          "output_type": "stream",
          "text": [
            "debug\n",
            "debug2\n",
            "[[0.0084096  0.02145242 0.05167013 0.6433853  0.00425502 0.02989212\n",
            "  0.02719492 0.07887544 0.02080361 0.11406148]]\n",
            "[3]\n",
            "debug3\n"
          ],
          "name": "stdout"
        },
        {
          "output_type": "stream",
          "text": [
            "127.0.0.1 - - [10/Feb/2021 22:15:28] \"\u001b[37mPOST /predict/ HTTP/1.1\u001b[0m\" 200 -\n"
          ],
          "name": "stderr"
        },
        {
          "output_type": "stream",
          "text": [
            "debug\n",
            "debug2\n",
            "[[2.2793580e-02 2.0117084e-02 6.2577355e-01 9.9869929e-02 6.1783125e-04\n",
            "  8.7679140e-02 8.1932291e-02 2.5231179e-03 5.1688965e-02 7.0045451e-03]]\n",
            "[2]\n",
            "debug3\n"
          ],
          "name": "stdout"
        },
        {
          "output_type": "stream",
          "text": [
            "127.0.0.1 - - [10/Feb/2021 22:15:32] \"\u001b[37mPOST /predict/ HTTP/1.1\u001b[0m\" 200 -\n"
          ],
          "name": "stderr"
        },
        {
          "output_type": "stream",
          "text": [
            "debug\n",
            "debug2\n",
            "[[0.0136209  0.14638537 0.02897856 0.12222199 0.00356665 0.5793322\n",
            "  0.05442152 0.00268032 0.04065894 0.00813353]]\n",
            "[5]\n",
            "debug3\n"
          ],
          "name": "stdout"
        },
        {
          "output_type": "stream",
          "text": [
            "127.0.0.1 - - [10/Feb/2021 22:15:37] \"\u001b[37mPOST /predict/ HTTP/1.1\u001b[0m\" 200 -\n"
          ],
          "name": "stderr"
        },
        {
          "output_type": "stream",
          "text": [
            "debug\n",
            "debug2\n",
            "[[0.00852029 0.03116417 0.00552742 0.16686593 0.01611364 0.00937739\n",
            "  0.006425   0.453083   0.00780452 0.29511857]]\n",
            "[7]\n",
            "debug3\n"
          ],
          "name": "stdout"
        },
        {
          "output_type": "stream",
          "text": [
            "127.0.0.1 - - [10/Feb/2021 22:15:42] \"\u001b[37mPOST /predict/ HTTP/1.1\u001b[0m\" 200 -\n"
          ],
          "name": "stderr"
        },
        {
          "output_type": "stream",
          "text": [
            "debug\n",
            "debug2\n",
            "[[0.008399   0.46299735 0.01625587 0.21425739 0.02017116 0.10101177\n",
            "  0.04553436 0.0307924  0.04232423 0.05825643]]\n",
            "[1]\n",
            "debug3\n"
          ],
          "name": "stdout"
        },
        {
          "output_type": "stream",
          "text": [
            "127.0.0.1 - - [10/Feb/2021 22:15:49] \"\u001b[37mPOST /predict/ HTTP/1.1\u001b[0m\" 200 -\n"
          ],
          "name": "stderr"
        },
        {
          "output_type": "stream",
          "text": [
            "debug\n",
            "debug2\n",
            "[[0.02548159 0.00478062 0.00506055 0.04568564 0.13215296 0.14845043\n",
            "  0.55067766 0.02663657 0.04038478 0.02068923]]\n",
            "[6]\n",
            "debug3\n"
          ],
          "name": "stdout"
        },
        {
          "output_type": "stream",
          "text": [
            "127.0.0.1 - - [10/Feb/2021 22:15:53] \"\u001b[37mPOST /predict/ HTTP/1.1\u001b[0m\" 200 -\n"
          ],
          "name": "stderr"
        },
        {
          "output_type": "stream",
          "text": [
            "debug\n",
            "debug2\n",
            "[[0.00111722 0.01866403 0.02053378 0.05036618 0.12493829 0.0659931\n",
            "  0.6731004  0.00096016 0.03883482 0.00549209]]\n",
            "[6]\n",
            "debug3\n"
          ],
          "name": "stdout"
        },
        {
          "output_type": "stream",
          "text": [
            "127.0.0.1 - - [10/Feb/2021 22:15:58] \"\u001b[37mPOST /predict/ HTTP/1.1\u001b[0m\" 200 -\n"
          ],
          "name": "stderr"
        },
        {
          "output_type": "stream",
          "text": [
            "debug\n",
            "debug2\n",
            "[[5.7624781e-01 1.1368054e-04 1.1711286e-01 1.7213802e-01 4.2314082e-04\n",
            "  4.2944815e-02 1.1990190e-03 3.4737475e-02 4.7098562e-02 7.9846224e-03]]\n",
            "[0]\n",
            "debug3\n"
          ],
          "name": "stdout"
        },
        {
          "output_type": "stream",
          "text": [
            "127.0.0.1 - - [10/Feb/2021 22:16:03] \"\u001b[37mPOST /predict/ HTTP/1.1\u001b[0m\" 200 -\n"
          ],
          "name": "stderr"
        },
        {
          "output_type": "stream",
          "text": [
            "debug\n",
            "debug2\n",
            "[[0.11521266 0.01489138 0.08909563 0.00709461 0.06847893 0.1338162\n",
            "  0.39697728 0.04194548 0.05241855 0.08006926]]\n",
            "[6]\n",
            "debug3\n"
          ],
          "name": "stdout"
        },
        {
          "output_type": "stream",
          "text": [
            "127.0.0.1 - - [10/Feb/2021 22:16:07] \"\u001b[37mPOST /predict/ HTTP/1.1\u001b[0m\" 200 -\n"
          ],
          "name": "stderr"
        },
        {
          "output_type": "stream",
          "text": [
            "debug\n",
            "debug2\n",
            "[[0.00298381 0.00142595 0.1623231  0.14194846 0.05321488 0.00182421\n",
            "  0.00978431 0.54882085 0.00764027 0.07003403]]\n",
            "[7]\n",
            "debug3\n"
          ],
          "name": "stdout"
        },
        {
          "output_type": "stream",
          "text": [
            "127.0.0.1 - - [10/Feb/2021 22:16:10] \"\u001b[37mPOST /predict/ HTTP/1.1\u001b[0m\" 200 -\n"
          ],
          "name": "stderr"
        },
        {
          "output_type": "stream",
          "text": [
            "debug\n",
            "debug2\n",
            "[[0.05376426 0.00206228 0.01184805 0.02343909 0.00118441 0.77867764\n",
            "  0.00571155 0.00119192 0.11735406 0.00476672]]\n",
            "[5]\n",
            "debug3\n"
          ],
          "name": "stdout"
        },
        {
          "output_type": "stream",
          "text": [
            "127.0.0.1 - - [10/Feb/2021 22:16:15] \"\u001b[37mPOST /predict/ HTTP/1.1\u001b[0m\" 200 -\n"
          ],
          "name": "stderr"
        },
        {
          "output_type": "stream",
          "text": [
            "debug\n",
            "debug2\n",
            "[[2.72672449e-04 3.64010148e-02 3.87146287e-02 1.05883755e-01\n",
            "  8.36244132e-03 1.08535383e-02 1.02507195e-03 3.21398154e-02\n",
            "  5.27795792e-01 2.38551334e-01]]\n",
            "[8]\n",
            "debug3\n"
          ],
          "name": "stdout"
        },
        {
          "output_type": "stream",
          "text": [
            "127.0.0.1 - - [10/Feb/2021 22:16:19] \"\u001b[37mPOST /predict/ HTTP/1.1\u001b[0m\" 200 -\n"
          ],
          "name": "stderr"
        },
        {
          "output_type": "stream",
          "text": [
            "debug\n",
            "debug2\n",
            "[[0.00493337 0.03510876 0.0014571  0.20402393 0.0076641  0.5585866\n",
            "  0.00105606 0.03236566 0.100592   0.05421243]]\n",
            "[5]\n",
            "debug3\n"
          ],
          "name": "stdout"
        },
        {
          "output_type": "stream",
          "text": [
            "127.0.0.1 - - [10/Feb/2021 22:16:24] \"\u001b[37mPOST /predict/ HTTP/1.1\u001b[0m\" 200 -\n"
          ],
          "name": "stderr"
        },
        {
          "output_type": "stream",
          "text": [
            "debug\n",
            "debug2\n",
            "[[0.0035246  0.00983199 0.06395049 0.7122422  0.01122474 0.01778353\n",
            "  0.01002301 0.08815728 0.06662141 0.01664066]]\n",
            "[3]\n",
            "debug3\n"
          ],
          "name": "stdout"
        },
        {
          "output_type": "stream",
          "text": [
            "127.0.0.1 - - [10/Feb/2021 22:16:29] \"\u001b[37mPOST /predict/ HTTP/1.1\u001b[0m\" 200 -\n"
          ],
          "name": "stderr"
        },
        {
          "output_type": "stream",
          "text": [
            "debug\n",
            "debug2\n",
            "[[0.01049599 0.00063086 0.0970823  0.41195965 0.04550097 0.06361336\n",
            "  0.2182819  0.00416102 0.13180679 0.01646721]]\n",
            "[3]\n",
            "debug3\n"
          ],
          "name": "stdout"
        },
        {
          "output_type": "stream",
          "text": [
            "127.0.0.1 - - [10/Feb/2021 22:16:29] \"\u001b[37mPOST /predict/ HTTP/1.1\u001b[0m\" 200 -\n"
          ],
          "name": "stderr"
        },
        {
          "output_type": "stream",
          "text": [
            "debug\n",
            "debug2\n",
            "[[0.01049599 0.00063086 0.0970823  0.41195965 0.04550097 0.06361336\n",
            "  0.2182819  0.00416102 0.13180679 0.01646721]]\n",
            "[3]\n",
            "debug3\n"
          ],
          "name": "stdout"
        },
        {
          "output_type": "stream",
          "text": [
            "127.0.0.1 - - [10/Feb/2021 22:16:30] \"\u001b[37mPOST /predict/ HTTP/1.1\u001b[0m\" 200 -\n"
          ],
          "name": "stderr"
        },
        {
          "output_type": "stream",
          "text": [
            "debug\n",
            "debug2\n",
            "[[0.01049599 0.00063086 0.0970823  0.41195965 0.04550097 0.06361336\n",
            "  0.2182819  0.00416102 0.13180679 0.01646721]]\n",
            "[3]\n",
            "debug3\n"
          ],
          "name": "stdout"
        },
        {
          "output_type": "stream",
          "text": [
            "127.0.0.1 - - [10/Feb/2021 22:16:33] \"\u001b[37mPOST /predict/ HTTP/1.1\u001b[0m\" 200 -\n"
          ],
          "name": "stderr"
        },
        {
          "output_type": "stream",
          "text": [
            "debug\n",
            "debug2\n",
            "[[0.0218484  0.01194837 0.01405488 0.6216171  0.00473958 0.1349275\n",
            "  0.01798073 0.05628507 0.10437401 0.01222442]]\n",
            "[3]\n",
            "debug3\n"
          ],
          "name": "stdout"
        },
        {
          "output_type": "stream",
          "text": [
            "127.0.0.1 - - [10/Feb/2021 22:16:33] \"\u001b[37mPOST /predict/ HTTP/1.1\u001b[0m\" 200 -\n"
          ],
          "name": "stderr"
        },
        {
          "output_type": "stream",
          "text": [
            "debug\n",
            "debug2\n",
            "[[0.0218484  0.01194837 0.01405488 0.6216171  0.00473958 0.1349275\n",
            "  0.01798073 0.05628507 0.10437401 0.01222442]]\n",
            "[3]\n",
            "debug3\n"
          ],
          "name": "stdout"
        },
        {
          "output_type": "stream",
          "text": [
            "127.0.0.1 - - [10/Feb/2021 22:16:36] \"\u001b[37mPOST /predict/ HTTP/1.1\u001b[0m\" 200 -\n"
          ],
          "name": "stderr"
        },
        {
          "output_type": "stream",
          "text": [
            "debug\n",
            "debug2\n",
            "[[1.6022343e-02 7.6664874e-05 1.2624348e-02 7.4124819e-01 7.9039549e-03\n",
            "  7.0492551e-02 3.4171392e-03 3.6993355e-03 1.3510782e-01 9.4076823e-03]]\n",
            "[3]\n",
            "debug3\n"
          ],
          "name": "stdout"
        },
        {
          "output_type": "stream",
          "text": [
            "127.0.0.1 - - [10/Feb/2021 22:16:40] \"\u001b[37mPOST /predict/ HTTP/1.1\u001b[0m\" 200 -\n"
          ],
          "name": "stderr"
        },
        {
          "output_type": "stream",
          "text": [
            "debug\n",
            "debug2\n",
            "[[8.5208677e-03 1.0698794e-04 9.0810368e-03 8.4848768e-01 2.1452145e-03\n",
            "  8.0007695e-02 6.0614566e-03 2.0122321e-03 4.3020140e-02 5.5671425e-04]]\n",
            "[3]\n",
            "debug3\n"
          ],
          "name": "stdout"
        },
        {
          "output_type": "stream",
          "text": [
            "127.0.0.1 - - [10/Feb/2021 22:16:44] \"\u001b[37mPOST /predict/ HTTP/1.1\u001b[0m\" 200 -\n"
          ],
          "name": "stderr"
        },
        {
          "output_type": "stream",
          "text": [
            "debug\n",
            "debug2\n",
            "[[0.01550004 0.0027795  0.02322822 0.03460707 0.19417545 0.01133639\n",
            "  0.53084326 0.00806868 0.1536566  0.02580478]]\n",
            "[6]\n",
            "debug3\n"
          ],
          "name": "stdout"
        }
      ]
    },
    {
      "cell_type": "markdown",
      "metadata": {
        "id": "4738ZlhQLATi"
      },
      "source": [
        "# Скрины примеров работы"
      ]
    },
    {
      "cell_type": "markdown",
      "metadata": {
        "id": "uCDGjuF5K5M7"
      },
      "source": [
        "https://drive.google.com/file/d/1VgMs0t7HFiaP2PumCRsdViDcmWecTDU7/view?usp=sharing"
      ]
    },
    {
      "cell_type": "markdown",
      "metadata": {
        "id": "hArbstnlK6OD"
      },
      "source": [
        "https://drive.google.com/file/d/1r3wuthxJlqeVYdYF8lfMkV2SNCRCKsJn/view?usp=sharing"
      ]
    },
    {
      "cell_type": "code",
      "metadata": {
        "id": "Rr9zhCO8JJDm"
      },
      "source": [
        ""
      ],
      "execution_count": null,
      "outputs": []
    },
    {
      "cell_type": "code",
      "metadata": {
        "id": "Xqb96yhGJJDm"
      },
      "source": [
        ""
      ],
      "execution_count": null,
      "outputs": []
    }
  ]
}