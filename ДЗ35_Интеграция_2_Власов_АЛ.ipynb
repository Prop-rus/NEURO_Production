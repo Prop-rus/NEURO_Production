{
  "nbformat": 4,
  "nbformat_minor": 5,
  "metadata": {
    "kernelspec": {
      "display_name": "Python 3",
      "language": "python",
      "name": "python3"
    },
    "language_info": {
      "codemirror_mode": {
        "name": "ipython",
        "version": 3
      },
      "file_extension": ".py",
      "mimetype": "text/x-python",
      "name": "python",
      "nbconvert_exporter": "python",
      "pygments_lexer": "ipython3",
      "version": "3.7.9"
    },
    "colab": {
      "name": "ДЗ35 Интеграция_2 Власов АЛ.ipynb",
      "provenance": [],
      "toc_visible": true
    }
  },
  "cells": [
    {
      "cell_type": "markdown",
      "metadata": {
        "id": "unique-aerospace"
      },
      "source": [
        "# LIGHT"
      ],
      "id": "unique-aerospace"
    },
    {
      "cell_type": "markdown",
      "metadata": {
        "id": "round-northwest"
      },
      "source": [
        "## light-1"
      ],
      "id": "round-northwest"
    },
    {
      "cell_type": "code",
      "metadata": {
        "id": "administrative-details"
      },
      "source": [
        "# установил на ubuntu докер и tf-serving latest-gpu. Не знаю какпоказать этой в ноутбуке, кроме как вывести список\n",
        "# контейнеров и образов"
      ],
      "id": "administrative-details",
      "execution_count": null,
      "outputs": []
    },
    {
      "cell_type": "code",
      "metadata": {
        "scrolled": true,
        "id": "eight-consent",
        "outputId": "eff4a3f1-2d06-4bee-8cfc-7c193022b1c4"
      },
      "source": [
        "!pkexec docker ps\n"
      ],
      "id": "eight-consent",
      "execution_count": null,
      "outputs": [
        {
          "output_type": "stream",
          "text": [
            "CONTAINER ID   IMAGE     COMMAND   CREATED   STATUS    PORTS     NAMES\r\n"
          ],
          "name": "stdout"
        }
      ]
    },
    {
      "cell_type": "code",
      "metadata": {
        "id": "naughty-despite",
        "outputId": "2b0149ba-934c-4d3d-9e94-ffabb9288026"
      },
      "source": [
        "!pkexec docker images"
      ],
      "id": "naughty-despite",
      "execution_count": null,
      "outputs": [
        {
          "output_type": "stream",
          "text": [
            "REPOSITORY               TAG          IMAGE ID       CREATED         SIZE\r\n",
            "tensorflow/serving       latest-gpu   6dabf2c0a340   2 months ago    8.43GB\r\n",
            "nvidia/cuda              11.0-base    2ec708416bb8   5 months ago    122MB\r\n",
            "docker/getting-started   latest       3c156928aeec   9 months ago    24.8MB\r\n",
            "hello-world              latest       bf756fb1ae65   13 months ago   13.3kB\r\n"
          ],
          "name": "stdout"
        }
      ]
    },
    {
      "cell_type": "markdown",
      "metadata": {
        "id": "close-surprise"
      },
      "source": [
        "## light-2"
      ],
      "id": "close-surprise"
    },
    {
      "cell_type": "code",
      "metadata": {
        "id": "requested-purse"
      },
      "source": [
        "import sys\n",
        "from matplotlib import pyplot\n",
        "import tensorflow\n",
        "from tensorflow.keras.datasets import cifar10\n",
        "from tensorflow.keras.utils import to_categorical\n",
        "from tensorflow.keras.models import Sequential\n",
        "from tensorflow.keras.layers import Conv2D\n",
        "from tensorflow.keras.layers import MaxPooling2D\n",
        "from tensorflow.keras.layers import Dense\n",
        "from tensorflow.keras.layers import Flatten\n",
        "from tensorflow.keras.optimizers import SGD\n",
        "from tensorflow.keras.preprocessing.image import ImageDataGenerator\n",
        "from tensorflow.keras.layers import Dropout\n",
        "from tensorflow.keras.layers import BatchNormalization\n",
        "import numpy\n",
        "import json\n",
        "import os"
      ],
      "id": "requested-purse",
      "execution_count": null,
      "outputs": []
    },
    {
      "cell_type": "code",
      "metadata": {
        "scrolled": true,
        "id": "leading-grain",
        "outputId": "7f72de97-34f9-4c5c-9de7-5b6f109d0e10"
      },
      "source": [
        "\n",
        "# load train and test dataset\n",
        "def load_dataset():\n",
        "    # load dataset\n",
        "    (trainX, trainY), (testX, testY) = cifar10.load_data()\n",
        "    # one hot encode target values\n",
        "    trainY = to_categorical(trainY)\n",
        "    testY = to_categorical(testY)\n",
        "    return trainX, trainY, testX, testY\n",
        "\n",
        "# scale pixels\n",
        "def prep_pixels(train, test):\n",
        "    # convert from integers to floats\n",
        "    train_norm = train.astype('float32')\n",
        "    test_norm = test.astype('float32')\n",
        "    # normalize to range 0-1\n",
        "    train_norm = train_norm / 255.0\n",
        "    test_norm = test_norm / 255.0\n",
        "    # return normalized images\n",
        "    return train_norm, test_norm\n",
        "\n",
        "# define cnn model\n",
        "def define_model():\n",
        "    model = Sequential()\n",
        "    model.add(Conv2D(32, (3, 3), activation='relu', kernel_initializer='he_uniform', padding='same', input_shape=(32, 32, 3)))\n",
        "    model.add(BatchNormalization())\n",
        "    model.add(Conv2D(32, (3, 3), activation='relu', kernel_initializer='he_uniform', padding='same'))\n",
        "    model.add(BatchNormalization())\n",
        "    model.add(MaxPooling2D((2, 2)))\n",
        "    model.add(Dropout(0.2))\n",
        "    model.add(Conv2D(64, (3, 3), activation='relu', kernel_initializer='he_uniform', padding='same'))\n",
        "    model.add(BatchNormalization())\n",
        "    model.add(Conv2D(64, (3, 3), activation='relu', kernel_initializer='he_uniform', padding='same'))\n",
        "    model.add(BatchNormalization())\n",
        "    model.add(MaxPooling2D((2, 2)))\n",
        "    model.add(Dropout(0.3))\n",
        "    model.add(Conv2D(128, (3, 3), activation='relu', kernel_initializer='he_uniform', padding='same'))\n",
        "    model.add(BatchNormalization())\n",
        "    model.add(Conv2D(128, (3, 3), activation='relu', kernel_initializer='he_uniform', padding='same'))\n",
        "    model.add(BatchNormalization())\n",
        "    model.add(MaxPooling2D((2, 2)))\n",
        "    model.add(Dropout(0.4))\n",
        "    model.add(Flatten())\n",
        "    model.add(Dense(128, activation='relu', kernel_initializer='he_uniform'))\n",
        "    model.add(BatchNormalization())\n",
        "    model.add(Dropout(0.5))\n",
        "    model.add(Dense(10, activation='softmax'))\n",
        "    # compile model\n",
        "    opt = SGD(lr=0.001, momentum=0.9)\n",
        "    model.compile(optimizer=opt, loss='categorical_crossentropy', metrics=['accuracy'])\n",
        "    return model\n",
        "\n",
        "# plot diagnostic learning curves\n",
        "def summarize_diagnostics(history):\n",
        "    # plot loss\n",
        "    pyplot.subplot(211)\n",
        "    pyplot.title('Cross Entropy Loss')\n",
        "    pyplot.plot(history.history['loss'], color='blue', label='train')\n",
        "    pyplot.plot(history.history['val_loss'], color='orange', label='test')\n",
        "    # plot accuracy\n",
        "    pyplot.subplot(212)\n",
        "    pyplot.title('Classification Accuracy')\n",
        "    pyplot.plot(history.history['accuracy'], color='blue', label='train')\n",
        "    pyplot.plot(history.history['val_accuracy'], color='orange', label='test')\n",
        "    # save plot to file\n",
        "    filename = sys.argv[0].split('/')[-1]\n",
        "    pyplot.savefig(filename + '_plot.png')\n",
        "    pyplot.close()\n",
        "\n",
        "# run the test harness for evaluating a model\n",
        "def run_test_harness():\n",
        "    # load dataset\n",
        "    trainX, trainY, testX, testY = load_dataset()\n",
        "    # prepare pixel data\n",
        "    trainX, testX = prep_pixels(trainX, testX)\n",
        "    # define model\n",
        "    model = define_model()\n",
        "    # create data generator\n",
        "    datagen = ImageDataGenerator(width_shift_range=0.1, height_shift_range=0.1, horizontal_flip=True)\n",
        "    # prepare iterator\n",
        "    it_train = datagen.flow(trainX, trainY, batch_size=64)\n",
        "    # fit model\n",
        "    steps = int(trainX.shape[0] / 64)\n",
        "    history = model.fit_generator(it_train, steps_per_epoch=steps, epochs=100, validation_data=(testX, testY), verbose=1)\n",
        "    # evaluate model\n",
        "    _, acc = model.evaluate(testX, testY, verbose=0)\n",
        "    print('> %.3f' % (acc * 100.0))\n",
        "    # learning curves\n",
        "    summarize_diagnostics(history)\n",
        "    \n",
        "    return model, testX, testY\n",
        "\n",
        "# entry point, run the test harness\n",
        "\n",
        "model, testX, testY = run_test_harness()"
      ],
      "id": "leading-grain",
      "execution_count": null,
      "outputs": [
        {
          "output_type": "stream",
          "text": [
            "WARNING:tensorflow:From <ipython-input-1-b8504df73266>:98: Model.fit_generator (from tensorflow.python.keras.engine.training) is deprecated and will be removed in a future version.\n",
            "Instructions for updating:\n",
            "Please use Model.fit, which supports generators.\n",
            "Epoch 1/100\n",
            "781/781 [==============================] - 16s 20ms/step - loss: 2.1640 - accuracy: 0.2928 - val_loss: 1.4849 - val_accuracy: 0.4598\n",
            "Epoch 2/100\n",
            "781/781 [==============================] - 16s 20ms/step - loss: 1.6379 - accuracy: 0.4048 - val_loss: 1.5652 - val_accuracy: 0.4331\n",
            "Epoch 3/100\n",
            "781/781 [==============================] - 16s 20ms/step - loss: 1.5150 - accuracy: 0.4486 - val_loss: 1.4063 - val_accuracy: 0.4842\n",
            "Epoch 4/100\n",
            "781/781 [==============================] - 16s 20ms/step - loss: 1.4326 - accuracy: 0.4795 - val_loss: 1.4115 - val_accuracy: 0.4908\n",
            "Epoch 5/100\n",
            "781/781 [==============================] - 16s 20ms/step - loss: 1.3744 - accuracy: 0.5029 - val_loss: 1.2650 - val_accuracy: 0.5375\n",
            "Epoch 6/100\n",
            "781/781 [==============================] - 16s 20ms/step - loss: 1.3182 - accuracy: 0.5242 - val_loss: 1.2276 - val_accuracy: 0.5557\n",
            "Epoch 7/100\n",
            "781/781 [==============================] - 15s 19ms/step - loss: 1.2637 - accuracy: 0.5453 - val_loss: 1.1481 - val_accuracy: 0.5823\n",
            "Epoch 8/100\n",
            "781/781 [==============================] - 16s 20ms/step - loss: 1.2206 - accuracy: 0.5617 - val_loss: 1.0869 - val_accuracy: 0.6054\n",
            "Epoch 9/100\n",
            "781/781 [==============================] - 15s 20ms/step - loss: 1.1803 - accuracy: 0.5776 - val_loss: 1.0896 - val_accuracy: 0.6027\n",
            "Epoch 10/100\n",
            "781/781 [==============================] - 15s 20ms/step - loss: 1.1514 - accuracy: 0.5891 - val_loss: 1.0497 - val_accuracy: 0.6226\n",
            "Epoch 11/100\n",
            "781/781 [==============================] - 15s 20ms/step - loss: 1.1193 - accuracy: 0.6024 - val_loss: 1.0252 - val_accuracy: 0.6276\n",
            "Epoch 12/100\n",
            "781/781 [==============================] - 15s 19ms/step - loss: 1.0885 - accuracy: 0.6119 - val_loss: 1.0895 - val_accuracy: 0.6032\n",
            "Epoch 13/100\n",
            "781/781 [==============================] - 16s 20ms/step - loss: 1.0635 - accuracy: 0.6202 - val_loss: 1.0976 - val_accuracy: 0.6115\n",
            "Epoch 14/100\n",
            "781/781 [==============================] - 16s 20ms/step - loss: 1.0474 - accuracy: 0.6290 - val_loss: 0.9138 - val_accuracy: 0.6759\n",
            "Epoch 15/100\n",
            "781/781 [==============================] - 15s 20ms/step - loss: 1.0246 - accuracy: 0.6348 - val_loss: 0.9135 - val_accuracy: 0.6727\n",
            "Epoch 16/100\n",
            "781/781 [==============================] - 15s 20ms/step - loss: 1.0084 - accuracy: 0.6430 - val_loss: 0.8990 - val_accuracy: 0.6793\n",
            "Epoch 17/100\n",
            "781/781 [==============================] - 16s 20ms/step - loss: 0.9905 - accuracy: 0.6478 - val_loss: 0.9205 - val_accuracy: 0.6719\n",
            "Epoch 18/100\n",
            "781/781 [==============================] - 15s 20ms/step - loss: 0.9707 - accuracy: 0.6579 - val_loss: 0.8255 - val_accuracy: 0.7098\n",
            "Epoch 19/100\n",
            "781/781 [==============================] - 15s 20ms/step - loss: 0.9569 - accuracy: 0.6621 - val_loss: 0.9334 - val_accuracy: 0.6659\n",
            "Epoch 20/100\n",
            "781/781 [==============================] - 15s 20ms/step - loss: 0.9449 - accuracy: 0.6650 - val_loss: 0.8528 - val_accuracy: 0.6934\n",
            "Epoch 21/100\n",
            "781/781 [==============================] - 16s 20ms/step - loss: 0.9319 - accuracy: 0.6703 - val_loss: 0.8535 - val_accuracy: 0.6952\n",
            "Epoch 22/100\n",
            "781/781 [==============================] - 16s 20ms/step - loss: 0.9218 - accuracy: 0.6768 - val_loss: 0.8901 - val_accuracy: 0.6816\n",
            "Epoch 23/100\n",
            "781/781 [==============================] - 16s 20ms/step - loss: 0.9032 - accuracy: 0.6824 - val_loss: 0.9037 - val_accuracy: 0.6790\n",
            "Epoch 24/100\n",
            "781/781 [==============================] - 15s 20ms/step - loss: 0.8956 - accuracy: 0.6848 - val_loss: 0.8038 - val_accuracy: 0.7154\n",
            "Epoch 25/100\n",
            "781/781 [==============================] - 15s 20ms/step - loss: 0.8818 - accuracy: 0.6918 - val_loss: 0.7976 - val_accuracy: 0.7128\n",
            "Epoch 26/100\n",
            "781/781 [==============================] - 15s 20ms/step - loss: 0.8691 - accuracy: 0.6947 - val_loss: 0.9178 - val_accuracy: 0.6815\n",
            "Epoch 27/100\n",
            "781/781 [==============================] - 15s 20ms/step - loss: 0.8636 - accuracy: 0.6965 - val_loss: 0.8333 - val_accuracy: 0.7010\n",
            "Epoch 28/100\n",
            "781/781 [==============================] - 15s 20ms/step - loss: 0.8576 - accuracy: 0.6983 - val_loss: 0.7423 - val_accuracy: 0.7384\n",
            "Epoch 29/100\n",
            "781/781 [==============================] - 15s 20ms/step - loss: 0.8453 - accuracy: 0.7018 - val_loss: 0.7289 - val_accuracy: 0.7417\n",
            "Epoch 30/100\n",
            "781/781 [==============================] - 15s 19ms/step - loss: 0.8339 - accuracy: 0.7103 - val_loss: 0.7586 - val_accuracy: 0.7309\n",
            "Epoch 31/100\n",
            "781/781 [==============================] - 15s 20ms/step - loss: 0.8312 - accuracy: 0.7078 - val_loss: 0.7742 - val_accuracy: 0.7263\n",
            "Epoch 32/100\n",
            "781/781 [==============================] - 15s 20ms/step - loss: 0.8202 - accuracy: 0.7123 - val_loss: 0.7966 - val_accuracy: 0.7178\n",
            "Epoch 33/100\n",
            "781/781 [==============================] - 15s 20ms/step - loss: 0.8182 - accuracy: 0.7139 - val_loss: 0.7156 - val_accuracy: 0.7461\n",
            "Epoch 34/100\n",
            "781/781 [==============================] - 16s 20ms/step - loss: 0.8081 - accuracy: 0.7157 - val_loss: 0.7470 - val_accuracy: 0.7368\n",
            "Epoch 35/100\n",
            "781/781 [==============================] - 15s 20ms/step - loss: 0.7961 - accuracy: 0.7215 - val_loss: 0.7111 - val_accuracy: 0.7496\n",
            "Epoch 36/100\n",
            "781/781 [==============================] - 15s 20ms/step - loss: 0.7866 - accuracy: 0.7255 - val_loss: 0.7109 - val_accuracy: 0.7518\n",
            "Epoch 37/100\n",
            "781/781 [==============================] - 15s 20ms/step - loss: 0.7867 - accuracy: 0.7247 - val_loss: 0.7824 - val_accuracy: 0.7268\n",
            "Epoch 38/100\n",
            "781/781 [==============================] - 15s 20ms/step - loss: 0.7797 - accuracy: 0.7259 - val_loss: 0.6819 - val_accuracy: 0.7632\n",
            "Epoch 39/100\n",
            "781/781 [==============================] - 16s 20ms/step - loss: 0.7688 - accuracy: 0.7321 - val_loss: 0.7268 - val_accuracy: 0.7470\n",
            "Epoch 40/100\n",
            "781/781 [==============================] - 16s 20ms/step - loss: 0.7672 - accuracy: 0.7337 - val_loss: 0.7039 - val_accuracy: 0.7564\n",
            "Epoch 41/100\n",
            "781/781 [==============================] - 15s 20ms/step - loss: 0.7581 - accuracy: 0.7353 - val_loss: 0.6818 - val_accuracy: 0.7637\n",
            "Epoch 42/100\n",
            "781/781 [==============================] - 16s 20ms/step - loss: 0.7538 - accuracy: 0.7379 - val_loss: 0.6810 - val_accuracy: 0.7642\n",
            "Epoch 43/100\n",
            "781/781 [==============================] - 15s 20ms/step - loss: 0.7485 - accuracy: 0.7405 - val_loss: 0.6677 - val_accuracy: 0.7672\n",
            "Epoch 44/100\n",
            "781/781 [==============================] - 16s 20ms/step - loss: 0.7461 - accuracy: 0.7405 - val_loss: 0.6835 - val_accuracy: 0.7616\n",
            "Epoch 45/100\n",
            "781/781 [==============================] - 15s 20ms/step - loss: 0.7422 - accuracy: 0.7407 - val_loss: 0.7128 - val_accuracy: 0.7513\n",
            "Epoch 46/100\n",
            "781/781 [==============================] - 16s 20ms/step - loss: 0.7362 - accuracy: 0.7433 - val_loss: 0.7609 - val_accuracy: 0.7351\n",
            "Epoch 47/100\n",
            "781/781 [==============================] - 15s 20ms/step - loss: 0.7227 - accuracy: 0.7486 - val_loss: 0.6678 - val_accuracy: 0.7697\n",
            "Epoch 48/100\n",
            "781/781 [==============================] - 15s 20ms/step - loss: 0.7190 - accuracy: 0.7501 - val_loss: 0.6807 - val_accuracy: 0.7633\n",
            "Epoch 49/100\n",
            "781/781 [==============================] - 15s 19ms/step - loss: 0.7182 - accuracy: 0.7500 - val_loss: 0.7611 - val_accuracy: 0.7368\n",
            "Epoch 50/100\n",
            "781/781 [==============================] - 15s 20ms/step - loss: 0.7128 - accuracy: 0.7507 - val_loss: 0.6613 - val_accuracy: 0.7715\n",
            "Epoch 51/100\n",
            "781/781 [==============================] - 15s 20ms/step - loss: 0.7068 - accuracy: 0.7546 - val_loss: 0.6402 - val_accuracy: 0.7767\n",
            "Epoch 52/100\n",
            "781/781 [==============================] - 16s 20ms/step - loss: 0.7023 - accuracy: 0.7562 - val_loss: 0.6424 - val_accuracy: 0.7767\n",
            "Epoch 53/100\n",
            "781/781 [==============================] - 15s 20ms/step - loss: 0.7023 - accuracy: 0.7570 - val_loss: 0.6571 - val_accuracy: 0.7716\n",
            "Epoch 54/100\n",
            "781/781 [==============================] - 15s 20ms/step - loss: 0.6888 - accuracy: 0.7615 - val_loss: 0.6202 - val_accuracy: 0.7861\n",
            "Epoch 55/100\n",
            "781/781 [==============================] - 15s 20ms/step - loss: 0.6907 - accuracy: 0.7597 - val_loss: 0.6287 - val_accuracy: 0.7813\n",
            "Epoch 56/100\n",
            "781/781 [==============================] - 15s 20ms/step - loss: 0.6790 - accuracy: 0.7639 - val_loss: 0.5964 - val_accuracy: 0.7937\n",
            "Epoch 57/100\n",
            "781/781 [==============================] - 15s 20ms/step - loss: 0.6787 - accuracy: 0.7653 - val_loss: 0.6170 - val_accuracy: 0.7871\n",
            "Epoch 58/100\n",
            "781/781 [==============================] - 15s 19ms/step - loss: 0.6704 - accuracy: 0.7683 - val_loss: 0.6675 - val_accuracy: 0.7692\n",
            "Epoch 59/100\n",
            "781/781 [==============================] - 15s 20ms/step - loss: 0.6685 - accuracy: 0.7699 - val_loss: 0.5999 - val_accuracy: 0.7928\n",
            "Epoch 60/100\n",
            "781/781 [==============================] - 16s 20ms/step - loss: 0.6639 - accuracy: 0.7694 - val_loss: 0.6200 - val_accuracy: 0.7873\n",
            "Epoch 61/100\n",
            "781/781 [==============================] - 15s 19ms/step - loss: 0.6642 - accuracy: 0.7696 - val_loss: 0.6188 - val_accuracy: 0.7875\n",
            "Epoch 62/100\n",
            "781/781 [==============================] - 15s 20ms/step - loss: 0.6600 - accuracy: 0.7715 - val_loss: 0.6328 - val_accuracy: 0.7815\n",
            "Epoch 63/100\n",
            "781/781 [==============================] - 15s 20ms/step - loss: 0.6532 - accuracy: 0.7758 - val_loss: 0.5894 - val_accuracy: 0.7981\n",
            "Epoch 64/100\n",
            "781/781 [==============================] - 15s 20ms/step - loss: 0.6534 - accuracy: 0.7742 - val_loss: 0.6643 - val_accuracy: 0.7722\n",
            "Epoch 65/100\n",
            "781/781 [==============================] - 15s 20ms/step - loss: 0.6451 - accuracy: 0.7782 - val_loss: 0.6125 - val_accuracy: 0.7894\n",
            "Epoch 66/100\n",
            "781/781 [==============================] - 15s 20ms/step - loss: 0.6432 - accuracy: 0.7786 - val_loss: 0.5943 - val_accuracy: 0.7987\n",
            "Epoch 67/100\n",
            "781/781 [==============================] - 15s 20ms/step - loss: 0.6406 - accuracy: 0.7792 - val_loss: 0.5664 - val_accuracy: 0.8074\n",
            "Epoch 68/100\n",
            "781/781 [==============================] - 15s 20ms/step - loss: 0.6328 - accuracy: 0.7826 - val_loss: 0.5703 - val_accuracy: 0.8043\n",
            "Epoch 69/100\n",
            "781/781 [==============================] - 15s 20ms/step - loss: 0.6312 - accuracy: 0.7831 - val_loss: 0.5693 - val_accuracy: 0.8053\n",
            "Epoch 70/100\n",
            "781/781 [==============================] - 15s 20ms/step - loss: 0.6346 - accuracy: 0.7819 - val_loss: 0.5496 - val_accuracy: 0.8113\n",
            "Epoch 71/100\n",
            "781/781 [==============================] - 15s 19ms/step - loss: 0.6313 - accuracy: 0.7826 - val_loss: 0.5862 - val_accuracy: 0.8000\n",
            "Epoch 72/100\n",
            "781/781 [==============================] - 15s 20ms/step - loss: 0.6201 - accuracy: 0.7884 - val_loss: 0.5700 - val_accuracy: 0.8069\n",
            "Epoch 73/100\n",
            "781/781 [==============================] - 15s 20ms/step - loss: 0.6170 - accuracy: 0.7878 - val_loss: 0.5845 - val_accuracy: 0.7973\n",
            "Epoch 74/100\n",
            "781/781 [==============================] - 15s 19ms/step - loss: 0.6170 - accuracy: 0.7871 - val_loss: 0.5904 - val_accuracy: 0.8005\n",
            "Epoch 75/100\n",
            "781/781 [==============================] - 16s 20ms/step - loss: 0.6125 - accuracy: 0.7888 - val_loss: 0.5865 - val_accuracy: 0.8000\n",
            "Epoch 76/100\n",
            "781/781 [==============================] - 15s 20ms/step - loss: 0.6109 - accuracy: 0.7892 - val_loss: 0.5817 - val_accuracy: 0.8029\n",
            "Epoch 77/100\n",
            "781/781 [==============================] - 15s 20ms/step - loss: 0.6034 - accuracy: 0.7934 - val_loss: 0.6274 - val_accuracy: 0.7862\n",
            "Epoch 78/100\n",
            "781/781 [==============================] - 15s 20ms/step - loss: 0.6021 - accuracy: 0.7917 - val_loss: 0.5669 - val_accuracy: 0.8077\n",
            "Epoch 79/100\n",
            "781/781 [==============================] - 15s 19ms/step - loss: 0.6011 - accuracy: 0.7939 - val_loss: 0.5253 - val_accuracy: 0.8187\n",
            "Epoch 80/100\n",
            "781/781 [==============================] - 15s 20ms/step - loss: 0.6027 - accuracy: 0.7918 - val_loss: 0.5504 - val_accuracy: 0.8116\n",
            "Epoch 81/100\n",
            "781/781 [==============================] - 15s 20ms/step - loss: 0.5954 - accuracy: 0.7968 - val_loss: 0.5849 - val_accuracy: 0.8005\n",
            "Epoch 82/100\n",
            "781/781 [==============================] - 15s 20ms/step - loss: 0.5884 - accuracy: 0.7957 - val_loss: 0.6010 - val_accuracy: 0.7984\n",
            "Epoch 83/100\n",
            "781/781 [==============================] - 15s 20ms/step - loss: 0.5843 - accuracy: 0.7970 - val_loss: 0.5463 - val_accuracy: 0.8130\n",
            "Epoch 84/100\n",
            "781/781 [==============================] - 16s 20ms/step - loss: 0.5851 - accuracy: 0.7990 - val_loss: 0.5573 - val_accuracy: 0.8112\n",
            "Epoch 85/100\n",
            "781/781 [==============================] - 15s 20ms/step - loss: 0.5815 - accuracy: 0.8007 - val_loss: 0.5349 - val_accuracy: 0.8176\n",
            "Epoch 86/100\n",
            "781/781 [==============================] - 15s 20ms/step - loss: 0.5786 - accuracy: 0.8017 - val_loss: 0.5290 - val_accuracy: 0.8219\n",
            "Epoch 87/100\n",
            "781/781 [==============================] - 15s 20ms/step - loss: 0.5795 - accuracy: 0.8008 - val_loss: 0.5356 - val_accuracy: 0.8176\n",
            "Epoch 88/100\n",
            "781/781 [==============================] - 16s 20ms/step - loss: 0.5747 - accuracy: 0.8039 - val_loss: 0.6105 - val_accuracy: 0.7967\n",
            "Epoch 89/100\n",
            "781/781 [==============================] - 16s 20ms/step - loss: 0.5720 - accuracy: 0.8058 - val_loss: 0.5432 - val_accuracy: 0.8178\n",
            "Epoch 90/100\n",
            "781/781 [==============================] - 15s 20ms/step - loss: 0.5712 - accuracy: 0.8041 - val_loss: 0.5109 - val_accuracy: 0.8255\n",
            "Epoch 91/100\n",
            "781/781 [==============================] - 15s 20ms/step - loss: 0.5693 - accuracy: 0.8049 - val_loss: 0.5048 - val_accuracy: 0.8265\n",
            "Epoch 92/100\n",
            "781/781 [==============================] - 15s 20ms/step - loss: 0.5611 - accuracy: 0.8069 - val_loss: 0.5166 - val_accuracy: 0.8243\n",
            "Epoch 93/100\n",
            "781/781 [==============================] - 15s 20ms/step - loss: 0.5562 - accuracy: 0.8095 - val_loss: 0.5263 - val_accuracy: 0.8226\n",
            "Epoch 94/100\n",
            "781/781 [==============================] - 16s 20ms/step - loss: 0.5585 - accuracy: 0.8105 - val_loss: 0.5095 - val_accuracy: 0.8296\n",
            "Epoch 95/100\n",
            "781/781 [==============================] - 15s 20ms/step - loss: 0.5518 - accuracy: 0.8107 - val_loss: 0.5867 - val_accuracy: 0.8028\n",
            "Epoch 96/100\n",
            "781/781 [==============================] - 15s 20ms/step - loss: 0.5570 - accuracy: 0.8084 - val_loss: 0.5119 - val_accuracy: 0.8285\n",
            "Epoch 97/100\n",
            "781/781 [==============================] - 16s 20ms/step - loss: 0.5482 - accuracy: 0.8120 - val_loss: 0.5163 - val_accuracy: 0.8270\n",
            "Epoch 98/100\n",
            "781/781 [==============================] - 15s 20ms/step - loss: 0.5539 - accuracy: 0.8114 - val_loss: 0.5766 - val_accuracy: 0.8075\n",
            "Epoch 99/100\n",
            "781/781 [==============================] - 16s 20ms/step - loss: 0.5504 - accuracy: 0.8116 - val_loss: 0.4966 - val_accuracy: 0.8273\n",
            "Epoch 100/100\n",
            "781/781 [==============================] - 16s 20ms/step - loss: 0.5478 - accuracy: 0.8113 - val_loss: 0.5369 - val_accuracy: 0.8209\n",
            "> 82.090\n"
          ],
          "name": "stdout"
        }
      ]
    },
    {
      "cell_type": "code",
      "metadata": {
        "id": "sustainable-elder",
        "outputId": "fb739e12-725d-429b-b203-a911cff012d9"
      },
      "source": [
        "\n",
        "MODEL_DIR = '/home/prop/Документы/HW/35/cifar10'# создание временной директории для хранения модели\n",
        "version = 1  # номер нашей версии\n",
        "export_path = os.path.join(MODEL_DIR, str(version)) \n",
        "print('Путь для экспорта = {}\\n'.format(export_path))"
      ],
      "id": "sustainable-elder",
      "execution_count": null,
      "outputs": [
        {
          "output_type": "stream",
          "text": [
            "Путь для экспорта = /home/prop/Документы/HW/35/cifar10/1\n",
            "\n"
          ],
          "name": "stdout"
        }
      ]
    },
    {
      "cell_type": "code",
      "metadata": {
        "id": "computational-sport",
        "outputId": "1caf8c7e-6d9a-4b17-d83a-a2418007fd73"
      },
      "source": [
        "if os.path.isdir(export_path):\n",
        "  print('\\nМодель уже сохранена\\n')\n",
        "  !rm -r {export_path}"
      ],
      "id": "computational-sport",
      "execution_count": null,
      "outputs": [
        {
          "output_type": "stream",
          "text": [
            "\n",
            "Модель уже сохранена\n",
            "\n"
          ],
          "name": "stdout"
        }
      ]
    },
    {
      "cell_type": "code",
      "metadata": {
        "scrolled": false,
        "id": "decreased-worcester",
        "outputId": "81996ea4-0c68-496a-e0d4-d2a3fe83d97f"
      },
      "source": [
        "\n",
        "tensorflow.keras.models.save_model(\n",
        "    model,\n",
        "    export_path,\n",
        "    overwrite=True,\n",
        "    include_optimizer=True,\n",
        "    save_format=None,\n",
        "    signatures=None,\n",
        "    options=None\n",
        ")\n",
        "\n",
        "print('\\nСохраненная модель:')\n",
        "!pkexec ls -l {export_path}"
      ],
      "id": "decreased-worcester",
      "execution_count": null,
      "outputs": [
        {
          "output_type": "stream",
          "text": [
            "WARNING:tensorflow:From /home/prop/anaconda3/envs/dz34_4/lib/python3.7/site-packages/tensorflow/python/training/tracking/tracking.py:111: Model.state_updates (from tensorflow.python.keras.engine.training) is deprecated and will be removed in a future version.\n",
            "Instructions for updating:\n",
            "This property should not be used in TensorFlow 2.0, as updates are applied automatically.\n",
            "WARNING:tensorflow:From /home/prop/anaconda3/envs/dz34_4/lib/python3.7/site-packages/tensorflow/python/training/tracking/tracking.py:111: Layer.updates (from tensorflow.python.keras.engine.base_layer) is deprecated and will be removed in a future version.\n",
            "Instructions for updating:\n",
            "This property should not be used in TensorFlow 2.0, as updates are applied automatically.\n",
            "INFO:tensorflow:Assets written to: /home/prop/Документы/HW/35/cifar10/1/assets\n",
            "\n",
            "Сохраненная модель:\n",
            "итого 560\n",
            "drwxr-xr-x 2 prop prop   4096 фев 15 23:06 assets\n",
            "-rw-rw-r-- 1 prop prop 564929 фев 15 23:06 saved_model.pb\n",
            "drwxr-xr-x 2 prop prop   4096 фев 15 23:06 variables\n"
          ],
          "name": "stdout"
        }
      ]
    },
    {
      "cell_type": "markdown",
      "metadata": {
        "id": "olive-adjustment"
      },
      "source": [
        "## light-3"
      ],
      "id": "olive-adjustment"
    },
    {
      "cell_type": "code",
      "metadata": {
        "id": "confidential-power",
        "outputId": "6ba1e281-66f5-4bf4-cd6f-daeec67e0809"
      },
      "source": [
        "!saved_model_cli show --dir {export_path} --all"
      ],
      "id": "confidential-power",
      "execution_count": null,
      "outputs": [
        {
          "output_type": "stream",
          "text": [
            "2021-02-15 02:08:07.487356: I tensorflow/stream_executor/platform/default/dso_loader.cc:48] Successfully opened dynamic library libcudart.so.10.1\n",
            "\n",
            "MetaGraphDef with tag-set: 'serve' contains the following SignatureDefs:\n",
            "\n",
            "signature_def['__saved_model_init_op']:\n",
            "  The given SavedModel SignatureDef contains the following input(s):\n",
            "  The given SavedModel SignatureDef contains the following output(s):\n",
            "    outputs['__saved_model_init_op'] tensor_info:\n",
            "        dtype: DT_INVALID\n",
            "        shape: unknown_rank\n",
            "        name: NoOp\n",
            "  Method name is: \n",
            "\n",
            "signature_def['serving_default']:\n",
            "  The given SavedModel SignatureDef contains the following input(s):\n",
            "    inputs['conv2d_18_input'] tensor_info:\n",
            "        dtype: DT_FLOAT\n",
            "        shape: (-1, 32, 32, 3)\n",
            "        name: serving_default_conv2d_18_input:0\n",
            "  The given SavedModel SignatureDef contains the following output(s):\n",
            "    outputs['dense_7'] tensor_info:\n",
            "        dtype: DT_FLOAT\n",
            "        shape: (-1, 10)\n",
            "        name: StatefulPartitionedCall:0\n",
            "  Method name is: tensorflow/serving/predict\n",
            "\n",
            "Defined Functions:\n",
            "  Function Name: '__call__'\n",
            "    Option #1\n",
            "      Callable with:\n",
            "        Argument #1\n",
            "          inputs: TensorSpec(shape=(None, 32, 32, 3), dtype=tf.float32, name='inputs')\n",
            "        Argument #2\n",
            "          DType: bool\n",
            "          Value: False\n",
            "        Argument #3\n",
            "          DType: NoneType\n",
            "          Value: None\n",
            "    Option #2\n",
            "      Callable with:\n",
            "        Argument #1\n",
            "          conv2d_18_input: TensorSpec(shape=(None, 32, 32, 3), dtype=tf.float32, name='conv2d_18_input')\n",
            "        Argument #2\n",
            "          DType: bool\n",
            "          Value: False\n",
            "        Argument #3\n",
            "          DType: NoneType\n",
            "          Value: None\n",
            "    Option #3\n",
            "      Callable with:\n",
            "        Argument #1\n",
            "          inputs: TensorSpec(shape=(None, 32, 32, 3), dtype=tf.float32, name='inputs')\n",
            "        Argument #2\n",
            "          DType: bool\n",
            "          Value: True\n",
            "        Argument #3\n",
            "          DType: NoneType\n",
            "          Value: None\n",
            "    Option #4\n",
            "      Callable with:\n",
            "        Argument #1\n",
            "          conv2d_18_input: TensorSpec(shape=(None, 32, 32, 3), dtype=tf.float32, name='conv2d_18_input')\n",
            "        Argument #2\n",
            "          DType: bool\n",
            "          Value: True\n",
            "        Argument #3\n",
            "          DType: NoneType\n",
            "          Value: None\n",
            "\n",
            "  Function Name: '_default_save_signature'\n",
            "    Option #1\n",
            "      Callable with:\n",
            "        Argument #1\n",
            "          conv2d_18_input: TensorSpec(shape=(None, 32, 32, 3), dtype=tf.float32, name='conv2d_18_input')\n",
            "\n",
            "  Function Name: 'call_and_return_all_conditional_losses'\n",
            "    Option #1\n",
            "      Callable with:\n",
            "        Argument #1\n",
            "          inputs: TensorSpec(shape=(None, 32, 32, 3), dtype=tf.float32, name='inputs')\n",
            "        Argument #2\n",
            "          DType: bool\n",
            "          Value: False\n",
            "        Argument #3\n",
            "          DType: NoneType\n",
            "          Value: None\n",
            "    Option #2\n",
            "      Callable with:\n",
            "        Argument #1\n",
            "          inputs: TensorSpec(shape=(None, 32, 32, 3), dtype=tf.float32, name='inputs')\n",
            "        Argument #2\n",
            "          DType: bool\n",
            "          Value: True\n",
            "        Argument #3\n",
            "          DType: NoneType\n",
            "          Value: None\n",
            "    Option #3\n",
            "      Callable with:\n",
            "        Argument #1\n",
            "          conv2d_18_input: TensorSpec(shape=(None, 32, 32, 3), dtype=tf.float32, name='conv2d_18_input')\n",
            "        Argument #2\n",
            "          DType: bool\n",
            "          Value: True\n",
            "        Argument #3\n",
            "          DType: NoneType\n",
            "          Value: None\n",
            "    Option #4\n",
            "      Callable with:\n",
            "        Argument #1\n",
            "          conv2d_18_input: TensorSpec(shape=(None, 32, 32, 3), dtype=tf.float32, name='conv2d_18_input')\n",
            "        Argument #2\n",
            "          DType: bool\n",
            "          Value: False\n",
            "        Argument #3\n",
            "          DType: NoneType\n",
            "          Value: None\n"
          ],
          "name": "stdout"
        }
      ]
    },
    {
      "cell_type": "markdown",
      "metadata": {
        "id": "center-performer"
      },
      "source": [
        "## light-4"
      ],
      "id": "center-performer"
    },
    {
      "cell_type": "code",
      "metadata": {
        "id": "significant-stability",
        "outputId": "641b6861-4b20-4e1a-d53e-1fef4166ba57"
      },
      "source": [
        "!pkexec docker ps\n"
      ],
      "id": "significant-stability",
      "execution_count": null,
      "outputs": [
        {
          "output_type": "stream",
          "text": [
            "CONTAINER ID   IMAGE                          COMMAND                  CREATED          STATUS          PORTS                              NAMES\r\n",
            "cdb0c4ae3562   tensorflow/serving:2.2.2-gpu   \"/usr/bin/tf_serving…\"   58 seconds ago   Up 57 seconds   8500/tcp, 0.0.0.0:8501->8501/tcp   gifted_allen\r\n"
          ],
          "name": "stdout"
        }
      ]
    },
    {
      "cell_type": "code",
      "metadata": {
        "id": "eleven-coaching"
      },
      "source": [
        "проверим работу предсказания"
      ],
      "id": "eleven-coaching",
      "execution_count": null,
      "outputs": []
    },
    {
      "cell_type": "code",
      "metadata": {
        "id": "appointed-mouse"
      },
      "source": [
        "\n",
        "data = json.dumps({\"instances\": testX[0:1].tolist()})\n",
        "import requests\n",
        "headers = {\"content-type\": \"application/json\"}\n",
        "json_response = requests.post('http://localhost:8501/v1/models/cifar10:predict', data=data, headers=headers)\n"
      ],
      "id": "appointed-mouse",
      "execution_count": null,
      "outputs": []
    },
    {
      "cell_type": "code",
      "metadata": {
        "id": "cross-partnership",
        "outputId": "f010eec1-d4c7-4c6c-ff08-0f3dffb1328d"
      },
      "source": [
        "print( json.loads(json_response.text))"
      ],
      "id": "cross-partnership",
      "execution_count": null,
      "outputs": [
        {
          "output_type": "stream",
          "text": [
            "{'predictions': [[9.04502958e-05, 0.000237729357, 0.00124874688, 0.94063127, 0.000116333365, 0.0289377887, 0.0282709245, 5.00830502e-05, 0.000358571793, 5.80722626e-05]]}\n"
          ],
          "name": "stdout"
        }
      ]
    },
    {
      "cell_type": "code",
      "metadata": {
        "id": "technical-doctrine",
        "outputId": "df5311bc-0eaa-4067-984d-40c6be604365"
      },
      "source": [
        "predictions = json.loads(json_response.text)['predictions']\n",
        "print('predict: ', numpy.argmax(predictions[0]), 'fact:', numpy.argmax(testY[0]))"
      ],
      "id": "technical-doctrine",
      "execution_count": null,
      "outputs": [
        {
          "output_type": "stream",
          "text": [
            "predict:  3 fact: 3\n"
          ],
          "name": "stdout"
        }
      ]
    },
    {
      "cell_type": "markdown",
      "metadata": {
        "id": "senior-client"
      },
      "source": [
        "## light-5"
      ],
      "id": "senior-client"
    },
    {
      "cell_type": "code",
      "metadata": {
        "id": "foreign-sending"
      },
      "source": [
        "возьмем функцию по построению множества Мандельброта"
      ],
      "id": "foreign-sending",
      "execution_count": null,
      "outputs": []
    },
    {
      "cell_type": "code",
      "metadata": {
        "id": "floating-merchandise",
        "outputId": "5da2325c-d276-4705-fa7f-2be77dd53512"
      },
      "source": [
        "# сначала без numba\n",
        "from timeit import default_timer as timer\n",
        "try:\n",
        "    from matplotlib.pylab import imshow, show\n",
        "    have_mpl = True\n",
        "except ImportError:\n",
        "    have_mpl = False\n",
        "import numpy as np\n",
        "from numba import jit\n",
        "\n",
        "def mandel_no(x, y, max_iters):\n",
        "    \"\"\"\n",
        "    Given the real and imaginary parts of a complex number,\n",
        "    determine if it is a candidate for membership in the Mandelbrot\n",
        "    set given a fixed number of iterations.\n",
        "    \"\"\"\n",
        "    i = 0\n",
        "    c = complex(x,y)\n",
        "    z = 0.0j\n",
        "    for i in range(max_iters):\n",
        "        z = z * z + c\n",
        "        if (z.real * z.real + z.imag * z.imag) >= 4:\n",
        "            return i\n",
        "\n",
        "    return 255\n",
        "\n",
        "\n",
        "def create_fractal_no(min_x, max_x, min_y, max_y, image, iters):\n",
        "    height = image.shape[0]\n",
        "    width = image.shape[1]\n",
        "\n",
        "    pixel_size_x = (max_x - min_x) / width\n",
        "    pixel_size_y = (max_y - min_y) / height\n",
        "    for x in range(width):\n",
        "        real = min_x + x * pixel_size_x\n",
        "        for y in range(height):\n",
        "            imag = min_y + y * pixel_size_y\n",
        "            color = mandel_no(real, imag, iters)\n",
        "            image[y, x] = color\n",
        "\n",
        "    return image\n",
        "\n",
        "image = np.zeros((500 * 2, 750 * 2), dtype=np.uint8)\n",
        "s = timer()\n",
        "create_fractal_no(-2.0, 1.0, -1.0, 1.0, image, 20)\n",
        "e = timer()\n",
        "print(e - s)\n",
        "if have_mpl:\n",
        "    imshow(image)\n",
        "    show()"
      ],
      "id": "floating-merchandise",
      "execution_count": null,
      "outputs": [
        {
          "output_type": "stream",
          "text": [
            "3.4089945089999674\n"
          ],
          "name": "stdout"
        },
        {
          "output_type": "display_data",
          "data": {
            "image/png": "[encoded data removed]",
            "text/plain": [
              "<Figure size 432x288 with 1 Axes>"
            ]
          },
          "metadata": {
            "tags": [],
            "needs_background": "light"
          }
        }
      ]
    },
    {
      "cell_type": "code",
      "metadata": {
        "scrolled": false,
        "id": "initial-productivity",
        "outputId": "36b5d665-971a-4cd1-9e2c-14c7bcee68b6"
      },
      "source": [
        "# применяем декаратор\n",
        "@jit(nopython=True)\n",
        "def mandel(x, y, max_iters):\n",
        "    \"\"\"\n",
        "    Given the real and imaginary parts of a complex number,\n",
        "    determine if it is a candidate for membership in the Mandelbrot\n",
        "    set given a fixed number of iterations.\n",
        "    \"\"\"\n",
        "    i = 0\n",
        "    c = complex(x,y)\n",
        "    z = 0.0j\n",
        "    for i in range(max_iters):\n",
        "        z = z * z + c\n",
        "        if (z.real * z.real + z.imag * z.imag) >= 4:\n",
        "            return i\n",
        "\n",
        "    return 255\n",
        "\n",
        "@jit(nopython=True)\n",
        "def create_fractal(min_x, max_x, min_y, max_y, image, iters):\n",
        "    height = image.shape[0]\n",
        "    width = image.shape[1]\n",
        "\n",
        "    pixel_size_x = (max_x - min_x) / width\n",
        "    pixel_size_y = (max_y - min_y) / height\n",
        "    for x in range(width):\n",
        "        real = min_x + x * pixel_size_x\n",
        "        for y in range(height):\n",
        "            imag = min_y + y * pixel_size_y\n",
        "            color = mandel(real, imag, iters)\n",
        "            image[y, x] = color\n",
        "\n",
        "    return image\n",
        "\n",
        "image = np.zeros((500 * 2, 750 * 2), dtype=np.uint8)\n",
        "s = timer()\n",
        "create_fractal(-2.0, 1.0, -1.0, 1.0, image, 20)\n",
        "e = timer()\n",
        "print(e - s)\n",
        "if have_mpl:\n",
        "    imshow(image)\n",
        "    show()"
      ],
      "id": "initial-productivity",
      "execution_count": null,
      "outputs": [
        {
          "output_type": "stream",
          "text": [
            "0.2149448959989968\n"
          ],
          "name": "stdout"
        },
        {
          "output_type": "display_data",
          "data": {
            "image/png": "[encoded data removed]",
            "text/plain": [
              "<Figure size 432x288 with 1 Axes>"
            ]
          },
          "metadata": {
            "tags": [],
            "needs_background": "light"
          }
        }
      ]
    },
    {
      "cell_type": "code",
      "metadata": {
        "id": "italic-worse"
      },
      "source": [
        "# 3.4 секунды проти 0.21"
      ],
      "id": "italic-worse",
      "execution_count": null,
      "outputs": []
    },
    {
      "cell_type": "markdown",
      "metadata": {
        "id": "perceived-sugar"
      },
      "source": [
        "# PRO"
      ],
      "id": "perceived-sugar"
    },
    {
      "cell_type": "markdown",
      "metadata": {
        "id": "FPPY2jJaNRk2"
      },
      "source": [
        "для задания взята база по регрессии с минами"
      ],
      "id": "FPPY2jJaNRk2"
    },
    {
      "cell_type": "code",
      "metadata": {
        "id": "known-florist",
        "outputId": "456cce07-bb59-4fa2-c187-cb6bb76ff8d9"
      },
      "source": [
        "import tensorflow\n",
        "from tensorflow.keras.models import Sequential\n",
        "from tensorflow.keras.layers import  Dense, Activation, Dropout, BatchNormalization\n",
        "from tensorflow.keras.optimizers import Adam\n",
        "\n",
        "import numpy as np\n",
        "\n",
        "import matplotlib.pyplot as plt\n",
        "import json\n",
        "import requests\n",
        "import os\n",
        "import pandas as pd\n",
        "# from google.colab import drive\n",
        "from sklearn.model_selection import train_test_split\n",
        "from sklearn import preprocessing\n",
        "from sklearn.preprocessing import StandardScaler\n",
        "from random import randint\n",
        "print('success')"
      ],
      "id": "known-florist",
      "execution_count": null,
      "outputs": [
        {
          "output_type": "stream",
          "text": [
            "success\n"
          ],
          "name": "stdout"
        }
      ]
    },
    {
      "cell_type": "code",
      "metadata": {
        "id": "expected-chrome",
        "outputId": "e8e78426-6838-4d51-fac8-7bce6c754ac6"
      },
      "source": [
        "df = pd.read_csv('sonar2.csv', header=None, encoding = 'utf8')\n",
        "df"
      ],
      "id": "expected-chrome",
      "execution_count": null,
      "outputs": [
        {
          "output_type": "execute_result",
          "data": {
            "text/html": [
              "<div>\n",
              "<style scoped>\n",
              "    .dataframe tbody tr th:only-of-type {\n",
              "        vertical-align: middle;\n",
              "    }\n",
              "\n",
              "    .dataframe tbody tr th {\n",
              "        vertical-align: top;\n",
              "    }\n",
              "\n",
              "    .dataframe thead th {\n",
              "        text-align: right;\n",
              "    }\n",
              "</style>\n",
              "<table border=\"1\" class=\"dataframe\">\n",
              "  <thead>\n",
              "    <tr style=\"text-align: right;\">\n",
              "      <th></th>\n",
              "      <th>0</th>\n",
              "      <th>1</th>\n",
              "      <th>2</th>\n",
              "      <th>3</th>\n",
              "      <th>4</th>\n",
              "      <th>5</th>\n",
              "      <th>6</th>\n",
              "      <th>7</th>\n",
              "      <th>8</th>\n",
              "      <th>9</th>\n",
              "      <th>...</th>\n",
              "      <th>51</th>\n",
              "      <th>52</th>\n",
              "      <th>53</th>\n",
              "      <th>54</th>\n",
              "      <th>55</th>\n",
              "      <th>56</th>\n",
              "      <th>57</th>\n",
              "      <th>58</th>\n",
              "      <th>59</th>\n",
              "      <th>60</th>\n",
              "    </tr>\n",
              "  </thead>\n",
              "  <tbody>\n",
              "    <tr>\n",
              "      <th>0</th>\n",
              "      <td>0.0200</td>\n",
              "      <td>0.0371</td>\n",
              "      <td>0.0428</td>\n",
              "      <td>0.0207</td>\n",
              "      <td>0.0954</td>\n",
              "      <td>0.0986</td>\n",
              "      <td>0.1539</td>\n",
              "      <td>0.1601</td>\n",
              "      <td>0.3109</td>\n",
              "      <td>0.2111</td>\n",
              "      <td>...</td>\n",
              "      <td>0.0027</td>\n",
              "      <td>0.0065</td>\n",
              "      <td>0.0159</td>\n",
              "      <td>0.0072</td>\n",
              "      <td>0.0167</td>\n",
              "      <td>0.0180</td>\n",
              "      <td>0.0084</td>\n",
              "      <td>0.0090</td>\n",
              "      <td>0.0032</td>\n",
              "      <td>R</td>\n",
              "    </tr>\n",
              "    <tr>\n",
              "      <th>1</th>\n",
              "      <td>0.0453</td>\n",
              "      <td>0.0523</td>\n",
              "      <td>0.0843</td>\n",
              "      <td>0.0689</td>\n",
              "      <td>0.1183</td>\n",
              "      <td>0.2583</td>\n",
              "      <td>0.2156</td>\n",
              "      <td>0.3481</td>\n",
              "      <td>0.3337</td>\n",
              "      <td>0.2872</td>\n",
              "      <td>...</td>\n",
              "      <td>0.0084</td>\n",
              "      <td>0.0089</td>\n",
              "      <td>0.0048</td>\n",
              "      <td>0.0094</td>\n",
              "      <td>0.0191</td>\n",
              "      <td>0.0140</td>\n",
              "      <td>0.0049</td>\n",
              "      <td>0.0052</td>\n",
              "      <td>0.0044</td>\n",
              "      <td>R</td>\n",
              "    </tr>\n",
              "    <tr>\n",
              "      <th>2</th>\n",
              "      <td>0.0262</td>\n",
              "      <td>0.0582</td>\n",
              "      <td>0.1099</td>\n",
              "      <td>0.1083</td>\n",
              "      <td>0.0974</td>\n",
              "      <td>0.2280</td>\n",
              "      <td>0.2431</td>\n",
              "      <td>0.3771</td>\n",
              "      <td>0.5598</td>\n",
              "      <td>0.6194</td>\n",
              "      <td>...</td>\n",
              "      <td>0.0232</td>\n",
              "      <td>0.0166</td>\n",
              "      <td>0.0095</td>\n",
              "      <td>0.0180</td>\n",
              "      <td>0.0244</td>\n",
              "      <td>0.0316</td>\n",
              "      <td>0.0164</td>\n",
              "      <td>0.0095</td>\n",
              "      <td>0.0078</td>\n",
              "      <td>R</td>\n",
              "    </tr>\n",
              "    <tr>\n",
              "      <th>3</th>\n",
              "      <td>0.0100</td>\n",
              "      <td>0.0171</td>\n",
              "      <td>0.0623</td>\n",
              "      <td>0.0205</td>\n",
              "      <td>0.0205</td>\n",
              "      <td>0.0368</td>\n",
              "      <td>0.1098</td>\n",
              "      <td>0.1276</td>\n",
              "      <td>0.0598</td>\n",
              "      <td>0.1264</td>\n",
              "      <td>...</td>\n",
              "      <td>0.0121</td>\n",
              "      <td>0.0036</td>\n",
              "      <td>0.0150</td>\n",
              "      <td>0.0085</td>\n",
              "      <td>0.0073</td>\n",
              "      <td>0.0050</td>\n",
              "      <td>0.0044</td>\n",
              "      <td>0.0040</td>\n",
              "      <td>0.0117</td>\n",
              "      <td>R</td>\n",
              "    </tr>\n",
              "    <tr>\n",
              "      <th>4</th>\n",
              "      <td>0.0762</td>\n",
              "      <td>0.0666</td>\n",
              "      <td>0.0481</td>\n",
              "      <td>0.0394</td>\n",
              "      <td>0.0590</td>\n",
              "      <td>0.0649</td>\n",
              "      <td>0.1209</td>\n",
              "      <td>0.2467</td>\n",
              "      <td>0.3564</td>\n",
              "      <td>0.4459</td>\n",
              "      <td>...</td>\n",
              "      <td>0.0031</td>\n",
              "      <td>0.0054</td>\n",
              "      <td>0.0105</td>\n",
              "      <td>0.0110</td>\n",
              "      <td>0.0015</td>\n",
              "      <td>0.0072</td>\n",
              "      <td>0.0048</td>\n",
              "      <td>0.0107</td>\n",
              "      <td>0.0094</td>\n",
              "      <td>R</td>\n",
              "    </tr>\n",
              "    <tr>\n",
              "      <th>...</th>\n",
              "      <td>...</td>\n",
              "      <td>...</td>\n",
              "      <td>...</td>\n",
              "      <td>...</td>\n",
              "      <td>...</td>\n",
              "      <td>...</td>\n",
              "      <td>...</td>\n",
              "      <td>...</td>\n",
              "      <td>...</td>\n",
              "      <td>...</td>\n",
              "      <td>...</td>\n",
              "      <td>...</td>\n",
              "      <td>...</td>\n",
              "      <td>...</td>\n",
              "      <td>...</td>\n",
              "      <td>...</td>\n",
              "      <td>...</td>\n",
              "      <td>...</td>\n",
              "      <td>...</td>\n",
              "      <td>...</td>\n",
              "      <td>...</td>\n",
              "    </tr>\n",
              "    <tr>\n",
              "      <th>203</th>\n",
              "      <td>0.0187</td>\n",
              "      <td>0.0346</td>\n",
              "      <td>0.0168</td>\n",
              "      <td>0.0177</td>\n",
              "      <td>0.0393</td>\n",
              "      <td>0.1630</td>\n",
              "      <td>0.2028</td>\n",
              "      <td>0.1694</td>\n",
              "      <td>0.2328</td>\n",
              "      <td>0.2684</td>\n",
              "      <td>...</td>\n",
              "      <td>0.0116</td>\n",
              "      <td>0.0098</td>\n",
              "      <td>0.0199</td>\n",
              "      <td>0.0033</td>\n",
              "      <td>0.0101</td>\n",
              "      <td>0.0065</td>\n",
              "      <td>0.0115</td>\n",
              "      <td>0.0193</td>\n",
              "      <td>0.0157</td>\n",
              "      <td>M</td>\n",
              "    </tr>\n",
              "    <tr>\n",
              "      <th>204</th>\n",
              "      <td>0.0323</td>\n",
              "      <td>0.0101</td>\n",
              "      <td>0.0298</td>\n",
              "      <td>0.0564</td>\n",
              "      <td>0.0760</td>\n",
              "      <td>0.0958</td>\n",
              "      <td>0.0990</td>\n",
              "      <td>0.1018</td>\n",
              "      <td>0.1030</td>\n",
              "      <td>0.2154</td>\n",
              "      <td>...</td>\n",
              "      <td>0.0061</td>\n",
              "      <td>0.0093</td>\n",
              "      <td>0.0135</td>\n",
              "      <td>0.0063</td>\n",
              "      <td>0.0063</td>\n",
              "      <td>0.0034</td>\n",
              "      <td>0.0032</td>\n",
              "      <td>0.0062</td>\n",
              "      <td>0.0067</td>\n",
              "      <td>M</td>\n",
              "    </tr>\n",
              "    <tr>\n",
              "      <th>205</th>\n",
              "      <td>0.0522</td>\n",
              "      <td>0.0437</td>\n",
              "      <td>0.0180</td>\n",
              "      <td>0.0292</td>\n",
              "      <td>0.0351</td>\n",
              "      <td>0.1171</td>\n",
              "      <td>0.1257</td>\n",
              "      <td>0.1178</td>\n",
              "      <td>0.1258</td>\n",
              "      <td>0.2529</td>\n",
              "      <td>...</td>\n",
              "      <td>0.0160</td>\n",
              "      <td>0.0029</td>\n",
              "      <td>0.0051</td>\n",
              "      <td>0.0062</td>\n",
              "      <td>0.0089</td>\n",
              "      <td>0.0140</td>\n",
              "      <td>0.0138</td>\n",
              "      <td>0.0077</td>\n",
              "      <td>0.0031</td>\n",
              "      <td>M</td>\n",
              "    </tr>\n",
              "    <tr>\n",
              "      <th>206</th>\n",
              "      <td>0.0303</td>\n",
              "      <td>0.0353</td>\n",
              "      <td>0.0490</td>\n",
              "      <td>0.0608</td>\n",
              "      <td>0.0167</td>\n",
              "      <td>0.1354</td>\n",
              "      <td>0.1465</td>\n",
              "      <td>0.1123</td>\n",
              "      <td>0.1945</td>\n",
              "      <td>0.2354</td>\n",
              "      <td>...</td>\n",
              "      <td>0.0086</td>\n",
              "      <td>0.0046</td>\n",
              "      <td>0.0126</td>\n",
              "      <td>0.0036</td>\n",
              "      <td>0.0035</td>\n",
              "      <td>0.0034</td>\n",
              "      <td>0.0079</td>\n",
              "      <td>0.0036</td>\n",
              "      <td>0.0048</td>\n",
              "      <td>M</td>\n",
              "    </tr>\n",
              "    <tr>\n",
              "      <th>207</th>\n",
              "      <td>0.0260</td>\n",
              "      <td>0.0363</td>\n",
              "      <td>0.0136</td>\n",
              "      <td>0.0272</td>\n",
              "      <td>0.0214</td>\n",
              "      <td>0.0338</td>\n",
              "      <td>0.0655</td>\n",
              "      <td>0.1400</td>\n",
              "      <td>0.1843</td>\n",
              "      <td>0.2354</td>\n",
              "      <td>...</td>\n",
              "      <td>0.0146</td>\n",
              "      <td>0.0129</td>\n",
              "      <td>0.0047</td>\n",
              "      <td>0.0039</td>\n",
              "      <td>0.0061</td>\n",
              "      <td>0.0040</td>\n",
              "      <td>0.0036</td>\n",
              "      <td>0.0061</td>\n",
              "      <td>0.0115</td>\n",
              "      <td>M</td>\n",
              "    </tr>\n",
              "  </tbody>\n",
              "</table>\n",
              "<p>208 rows × 61 columns</p>\n",
              "</div>"
            ],
            "text/plain": [
              "         0       1       2       3       4       5       6       7       8   \\\n",
              "0    0.0200  0.0371  0.0428  0.0207  0.0954  0.0986  0.1539  0.1601  0.3109   \n",
              "1    0.0453  0.0523  0.0843  0.0689  0.1183  0.2583  0.2156  0.3481  0.3337   \n",
              "2    0.0262  0.0582  0.1099  0.1083  0.0974  0.2280  0.2431  0.3771  0.5598   \n",
              "3    0.0100  0.0171  0.0623  0.0205  0.0205  0.0368  0.1098  0.1276  0.0598   \n",
              "4    0.0762  0.0666  0.0481  0.0394  0.0590  0.0649  0.1209  0.2467  0.3564   \n",
              "..      ...     ...     ...     ...     ...     ...     ...     ...     ...   \n",
              "203  0.0187  0.0346  0.0168  0.0177  0.0393  0.1630  0.2028  0.1694  0.2328   \n",
              "204  0.0323  0.0101  0.0298  0.0564  0.0760  0.0958  0.0990  0.1018  0.1030   \n",
              "205  0.0522  0.0437  0.0180  0.0292  0.0351  0.1171  0.1257  0.1178  0.1258   \n",
              "206  0.0303  0.0353  0.0490  0.0608  0.0167  0.1354  0.1465  0.1123  0.1945   \n",
              "207  0.0260  0.0363  0.0136  0.0272  0.0214  0.0338  0.0655  0.1400  0.1843   \n",
              "\n",
              "         9   ...      51      52      53      54      55      56      57  \\\n",
              "0    0.2111  ...  0.0027  0.0065  0.0159  0.0072  0.0167  0.0180  0.0084   \n",
              "1    0.2872  ...  0.0084  0.0089  0.0048  0.0094  0.0191  0.0140  0.0049   \n",
              "2    0.6194  ...  0.0232  0.0166  0.0095  0.0180  0.0244  0.0316  0.0164   \n",
              "3    0.1264  ...  0.0121  0.0036  0.0150  0.0085  0.0073  0.0050  0.0044   \n",
              "4    0.4459  ...  0.0031  0.0054  0.0105  0.0110  0.0015  0.0072  0.0048   \n",
              "..      ...  ...     ...     ...     ...     ...     ...     ...     ...   \n",
              "203  0.2684  ...  0.0116  0.0098  0.0199  0.0033  0.0101  0.0065  0.0115   \n",
              "204  0.2154  ...  0.0061  0.0093  0.0135  0.0063  0.0063  0.0034  0.0032   \n",
              "205  0.2529  ...  0.0160  0.0029  0.0051  0.0062  0.0089  0.0140  0.0138   \n",
              "206  0.2354  ...  0.0086  0.0046  0.0126  0.0036  0.0035  0.0034  0.0079   \n",
              "207  0.2354  ...  0.0146  0.0129  0.0047  0.0039  0.0061  0.0040  0.0036   \n",
              "\n",
              "         58      59  60  \n",
              "0    0.0090  0.0032   R  \n",
              "1    0.0052  0.0044   R  \n",
              "2    0.0095  0.0078   R  \n",
              "3    0.0040  0.0117   R  \n",
              "4    0.0107  0.0094   R  \n",
              "..      ...     ...  ..  \n",
              "203  0.0193  0.0157   M  \n",
              "204  0.0062  0.0067   M  \n",
              "205  0.0077  0.0031   M  \n",
              "206  0.0036  0.0048   M  \n",
              "207  0.0061  0.0115   M  \n",
              "\n",
              "[208 rows x 61 columns]"
            ]
          },
          "metadata": {
            "tags": []
          },
          "execution_count": 2
        }
      ]
    },
    {
      "cell_type": "code",
      "metadata": {
        "id": "suspected-inspiration"
      },
      "source": [
        "dataset = df.values\n"
      ],
      "id": "suspected-inspiration",
      "execution_count": null,
      "outputs": []
    },
    {
      "cell_type": "code",
      "metadata": {
        "id": "competent-polyester"
      },
      "source": [
        "X = dataset[:,0:60].astype(float)\n",
        "Y = dataset[:,60]\n"
      ],
      "id": "competent-polyester",
      "execution_count": null,
      "outputs": []
    },
    {
      "cell_type": "code",
      "metadata": {
        "id": "wound-marks"
      },
      "source": [
        "Y[Y=='R']='0'\n",
        "Y[Y=='M']='1'\n"
      ],
      "id": "wound-marks",
      "execution_count": null,
      "outputs": []
    },
    {
      "cell_type": "code",
      "metadata": {
        "id": "israeli-transition"
      },
      "source": [
        "Y = Y.astype(int)\n"
      ],
      "id": "israeli-transition",
      "execution_count": null,
      "outputs": []
    },
    {
      "cell_type": "code",
      "metadata": {
        "id": "trained-salad"
      },
      "source": [
        "x_train, x_test, y_train, y_test = train_test_split(X, Y, test_size=0.2,shuffle = True)"
      ],
      "id": "trained-salad",
      "execution_count": null,
      "outputs": []
    },
    {
      "cell_type": "code",
      "metadata": {
        "id": "owned-cargo",
        "outputId": "2c5af057-2801-4c43-aa31-1c5760e97954"
      },
      "source": [
        "x_train"
      ],
      "id": "owned-cargo",
      "execution_count": null,
      "outputs": [
        {
          "output_type": "execute_result",
          "data": {
            "text/plain": [
              "array([[0.0305, 0.0363, 0.0214, ..., 0.0042, 0.0055, 0.0021],\n",
              "       [0.0195, 0.0142, 0.0181, ..., 0.0042, 0.0067, 0.0012],\n",
              "       [0.0968, 0.0821, 0.0629, ..., 0.0201, 0.021 , 0.0041],\n",
              "       ...,\n",
              "       [0.0093, 0.0269, 0.0217, ..., 0.0116, 0.006 , 0.011 ],\n",
              "       [0.0079, 0.0086, 0.0055, ..., 0.0058, 0.0059, 0.0032],\n",
              "       [0.0131, 0.0201, 0.0045, ..., 0.0066, 0.0029, 0.0053]])"
            ]
          },
          "metadata": {
            "tags": []
          },
          "execution_count": 8
        }
      ]
    },
    {
      "cell_type": "code",
      "metadata": {
        "id": "handed-commander",
        "outputId": "ddc7f015-3440-4f73-9dda-8ce2496056fd"
      },
      "source": [
        "\n",
        "model = Sequential()\n",
        "model.add(BatchNormalization(input_shape=(60,)))\n",
        "\n",
        "\n",
        "model.add(Dense(120, activation='tanh'))\n",
        "model.add(Dropout(0.5))\n",
        "model.add(BatchNormalization())\n",
        "\n",
        "\n",
        "model.add(Dense(60, activation='softmax'))\n",
        "model.add(Dropout(0.4))\n",
        "\n",
        "model.add(Dense(30, activation='softmax'))\n",
        "model.add(BatchNormalization())\n",
        "model.add(Dropout(0.3))\n",
        "model.add(Dense(1, activation='sigmoid'))\n",
        "\n",
        "model.compile(loss = 'binary_crossentropy', optimizer = Adam(lr=0.004), metrics=['accuracy'])\n",
        "\n",
        "results = model.fit(x_train, y_train,\n",
        "          batch_size=32,\n",
        "          epochs=100,\n",
        "          verbose=1,\n",
        "          validation_split=0.05)\n",
        "scores = model.evaluate(x_test, y_test, verbose=1)"
      ],
      "id": "handed-commander",
      "execution_count": null,
      "outputs": [
        {
          "output_type": "stream",
          "text": [
            "Epoch 1/100\n",
            "5/5 [==============================] - 0s 29ms/step - loss: 0.6861 - accuracy: 0.5796 - val_loss: 0.6960 - val_accuracy: 0.1111\n",
            "Epoch 2/100\n",
            "5/5 [==============================] - 0s 6ms/step - loss: 0.6643 - accuracy: 0.7070 - val_loss: 0.6870 - val_accuracy: 0.8889\n",
            "Epoch 3/100\n",
            "5/5 [==============================] - 0s 5ms/step - loss: 0.6360 - accuracy: 0.7834 - val_loss: 0.6708 - val_accuracy: 0.8889\n",
            "Epoch 4/100\n",
            "5/5 [==============================] - 0s 5ms/step - loss: 0.5974 - accuracy: 0.8217 - val_loss: 0.6655 - val_accuracy: 0.8889\n",
            "Epoch 5/100\n",
            "5/5 [==============================] - 0s 5ms/step - loss: 0.5356 - accuracy: 0.8153 - val_loss: 0.6518 - val_accuracy: 0.8889\n",
            "Epoch 6/100\n",
            "5/5 [==============================] - 0s 5ms/step - loss: 0.4784 - accuracy: 0.8471 - val_loss: 0.6495 - val_accuracy: 0.8889\n",
            "Epoch 7/100\n",
            "5/5 [==============================] - 0s 5ms/step - loss: 0.4640 - accuracy: 0.8153 - val_loss: 0.6379 - val_accuracy: 0.8889\n",
            "Epoch 8/100\n",
            "5/5 [==============================] - 0s 5ms/step - loss: 0.4028 - accuracy: 0.8471 - val_loss: 0.6269 - val_accuracy: 0.8889\n",
            "Epoch 9/100\n",
            "5/5 [==============================] - 0s 5ms/step - loss: 0.4150 - accuracy: 0.8217 - val_loss: 0.6040 - val_accuracy: 0.8889\n",
            "Epoch 10/100\n",
            "5/5 [==============================] - 0s 6ms/step - loss: 0.3717 - accuracy: 0.8471 - val_loss: 0.5976 - val_accuracy: 0.8889\n",
            "Epoch 11/100\n",
            "5/5 [==============================] - 0s 5ms/step - loss: 0.3396 - accuracy: 0.8662 - val_loss: 0.5855 - val_accuracy: 0.8889\n",
            "Epoch 12/100\n",
            "5/5 [==============================] - 0s 5ms/step - loss: 0.4095 - accuracy: 0.8217 - val_loss: 0.5702 - val_accuracy: 0.8889\n",
            "Epoch 13/100\n",
            "5/5 [==============================] - 0s 5ms/step - loss: 0.3286 - accuracy: 0.8535 - val_loss: 0.5738 - val_accuracy: 0.8889\n",
            "Epoch 14/100\n",
            "5/5 [==============================] - 0s 5ms/step - loss: 0.2760 - accuracy: 0.9045 - val_loss: 0.5744 - val_accuracy: 0.8889\n",
            "Epoch 15/100\n",
            "5/5 [==============================] - 0s 5ms/step - loss: 0.2809 - accuracy: 0.8854 - val_loss: 0.5625 - val_accuracy: 0.8889\n",
            "Epoch 16/100\n",
            "5/5 [==============================] - 0s 5ms/step - loss: 0.3172 - accuracy: 0.8408 - val_loss: 0.5561 - val_accuracy: 0.8889\n",
            "Epoch 17/100\n",
            "5/5 [==============================] - 0s 5ms/step - loss: 0.2109 - accuracy: 0.9490 - val_loss: 0.5412 - val_accuracy: 0.8889\n",
            "Epoch 18/100\n",
            "5/5 [==============================] - 0s 6ms/step - loss: 0.2643 - accuracy: 0.8917 - val_loss: 0.5467 - val_accuracy: 0.8889\n",
            "Epoch 19/100\n",
            "5/5 [==============================] - 0s 5ms/step - loss: 0.3090 - accuracy: 0.8726 - val_loss: 0.5571 - val_accuracy: 0.8889\n",
            "Epoch 20/100\n",
            "5/5 [==============================] - 0s 6ms/step - loss: 0.2100 - accuracy: 0.9618 - val_loss: 0.5411 - val_accuracy: 0.8889\n",
            "Epoch 21/100\n",
            "5/5 [==============================] - 0s 5ms/step - loss: 0.1754 - accuracy: 0.9299 - val_loss: 0.5259 - val_accuracy: 0.8889\n",
            "Epoch 22/100\n",
            "5/5 [==============================] - 0s 5ms/step - loss: 0.2358 - accuracy: 0.9108 - val_loss: 0.5143 - val_accuracy: 0.8889\n",
            "Epoch 23/100\n",
            "5/5 [==============================] - 0s 5ms/step - loss: 0.2357 - accuracy: 0.9172 - val_loss: 0.5272 - val_accuracy: 0.8889\n",
            "Epoch 24/100\n",
            "5/5 [==============================] - 0s 6ms/step - loss: 0.2431 - accuracy: 0.9236 - val_loss: 0.5333 - val_accuracy: 0.8889\n",
            "Epoch 25/100\n",
            "5/5 [==============================] - 0s 5ms/step - loss: 0.1759 - accuracy: 0.9363 - val_loss: 0.5209 - val_accuracy: 0.8889\n",
            "Epoch 26/100\n",
            "5/5 [==============================] - 0s 6ms/step - loss: 0.1860 - accuracy: 0.9299 - val_loss: 0.5277 - val_accuracy: 0.8889\n",
            "Epoch 27/100\n",
            "5/5 [==============================] - 0s 5ms/step - loss: 0.2064 - accuracy: 0.9172 - val_loss: 0.5363 - val_accuracy: 1.0000\n",
            "Epoch 28/100\n",
            "5/5 [==============================] - 0s 5ms/step - loss: 0.1147 - accuracy: 0.9682 - val_loss: 0.5424 - val_accuracy: 1.0000\n",
            "Epoch 29/100\n",
            "5/5 [==============================] - 0s 5ms/step - loss: 0.1986 - accuracy: 0.9236 - val_loss: 0.5339 - val_accuracy: 1.0000\n",
            "Epoch 30/100\n",
            "5/5 [==============================] - 0s 6ms/step - loss: 0.1843 - accuracy: 0.9427 - val_loss: 0.5091 - val_accuracy: 1.0000\n",
            "Epoch 31/100\n",
            "5/5 [==============================] - 0s 5ms/step - loss: 0.1383 - accuracy: 0.9554 - val_loss: 0.4929 - val_accuracy: 0.8889\n",
            "Epoch 32/100\n",
            "5/5 [==============================] - 0s 6ms/step - loss: 0.1006 - accuracy: 0.9809 - val_loss: 0.4790 - val_accuracy: 0.8889\n",
            "Epoch 33/100\n",
            "5/5 [==============================] - 0s 5ms/step - loss: 0.2275 - accuracy: 0.9108 - val_loss: 0.4769 - val_accuracy: 0.8889\n",
            "Epoch 34/100\n",
            "5/5 [==============================] - 0s 5ms/step - loss: 0.1694 - accuracy: 0.9427 - val_loss: 0.4975 - val_accuracy: 1.0000\n",
            "Epoch 35/100\n",
            "5/5 [==============================] - 0s 6ms/step - loss: 0.1219 - accuracy: 0.9427 - val_loss: 0.5056 - val_accuracy: 1.0000\n",
            "Epoch 36/100\n",
            "5/5 [==============================] - 0s 5ms/step - loss: 0.1595 - accuracy: 0.9490 - val_loss: 0.4979 - val_accuracy: 1.0000\n",
            "Epoch 37/100\n",
            "5/5 [==============================] - 0s 5ms/step - loss: 0.1619 - accuracy: 0.9490 - val_loss: 0.4791 - val_accuracy: 1.0000\n",
            "Epoch 38/100\n",
            "5/5 [==============================] - 0s 5ms/step - loss: 0.1230 - accuracy: 0.9554 - val_loss: 0.4540 - val_accuracy: 1.0000\n",
            "Epoch 39/100\n",
            "5/5 [==============================] - 0s 6ms/step - loss: 0.0826 - accuracy: 0.9809 - val_loss: 0.4377 - val_accuracy: 1.0000\n",
            "Epoch 40/100\n",
            "5/5 [==============================] - 0s 5ms/step - loss: 0.1143 - accuracy: 0.9682 - val_loss: 0.4277 - val_accuracy: 1.0000\n",
            "Epoch 41/100\n",
            "5/5 [==============================] - 0s 5ms/step - loss: 0.1247 - accuracy: 0.9554 - val_loss: 0.4236 - val_accuracy: 1.0000\n",
            "Epoch 42/100\n",
            "5/5 [==============================] - 0s 5ms/step - loss: 0.0721 - accuracy: 0.9873 - val_loss: 0.4164 - val_accuracy: 1.0000\n",
            "Epoch 43/100\n",
            "5/5 [==============================] - 0s 5ms/step - loss: 0.1159 - accuracy: 0.9427 - val_loss: 0.4083 - val_accuracy: 1.0000\n",
            "Epoch 44/100\n",
            "5/5 [==============================] - 0s 5ms/step - loss: 0.0569 - accuracy: 0.9745 - val_loss: 0.4005 - val_accuracy: 1.0000\n",
            "Epoch 45/100\n",
            "5/5 [==============================] - 0s 5ms/step - loss: 0.1185 - accuracy: 0.9363 - val_loss: 0.3761 - val_accuracy: 1.0000\n",
            "Epoch 46/100\n",
            "5/5 [==============================] - 0s 5ms/step - loss: 0.0778 - accuracy: 0.9745 - val_loss: 0.3586 - val_accuracy: 1.0000\n",
            "Epoch 47/100\n",
            "5/5 [==============================] - 0s 5ms/step - loss: 0.1366 - accuracy: 0.9363 - val_loss: 0.3483 - val_accuracy: 1.0000\n",
            "Epoch 48/100\n",
            "5/5 [==============================] - 0s 5ms/step - loss: 0.1471 - accuracy: 0.9363 - val_loss: 0.3441 - val_accuracy: 1.0000\n",
            "Epoch 49/100\n",
            "5/5 [==============================] - 0s 5ms/step - loss: 0.1149 - accuracy: 0.9554 - val_loss: 0.3579 - val_accuracy: 1.0000\n",
            "Epoch 50/100\n",
            "5/5 [==============================] - 0s 5ms/step - loss: 0.0708 - accuracy: 0.9682 - val_loss: 0.3612 - val_accuracy: 1.0000\n",
            "Epoch 51/100\n",
            "5/5 [==============================] - 0s 4ms/step - loss: 0.0958 - accuracy: 0.9682 - val_loss: 0.3526 - val_accuracy: 1.0000\n",
            "Epoch 52/100\n",
            "5/5 [==============================] - 0s 5ms/step - loss: 0.1512 - accuracy: 0.9363 - val_loss: 0.3287 - val_accuracy: 1.0000\n",
            "Epoch 53/100\n",
            "5/5 [==============================] - 0s 5ms/step - loss: 0.0874 - accuracy: 0.9809 - val_loss: 0.3239 - val_accuracy: 1.0000\n",
            "Epoch 54/100\n",
            "5/5 [==============================] - 0s 5ms/step - loss: 0.1782 - accuracy: 0.9427 - val_loss: 0.3263 - val_accuracy: 1.0000\n",
            "Epoch 55/100\n",
            "5/5 [==============================] - 0s 5ms/step - loss: 0.0866 - accuracy: 0.9745 - val_loss: 0.3290 - val_accuracy: 1.0000\n",
            "Epoch 56/100\n",
            "5/5 [==============================] - 0s 5ms/step - loss: 0.1247 - accuracy: 0.9554 - val_loss: 0.3321 - val_accuracy: 1.0000\n",
            "Epoch 57/100\n",
            "5/5 [==============================] - 0s 5ms/step - loss: 0.0860 - accuracy: 0.9618 - val_loss: 0.3302 - val_accuracy: 1.0000\n",
            "Epoch 58/100\n",
            "5/5 [==============================] - 0s 5ms/step - loss: 0.1052 - accuracy: 0.9554 - val_loss: 0.3288 - val_accuracy: 1.0000\n",
            "Epoch 59/100\n",
            "5/5 [==============================] - 0s 5ms/step - loss: 0.1997 - accuracy: 0.9363 - val_loss: 0.3121 - val_accuracy: 1.0000\n",
            "Epoch 60/100\n",
            "5/5 [==============================] - 0s 5ms/step - loss: 0.1040 - accuracy: 0.9618 - val_loss: 0.3011 - val_accuracy: 1.0000\n",
            "Epoch 61/100\n",
            "5/5 [==============================] - 0s 5ms/step - loss: 0.1222 - accuracy: 0.9682 - val_loss: 0.3049 - val_accuracy: 1.0000\n",
            "Epoch 62/100\n",
            "5/5 [==============================] - 0s 5ms/step - loss: 0.1224 - accuracy: 0.9554 - val_loss: 0.3109 - val_accuracy: 1.0000\n",
            "Epoch 63/100\n",
            "5/5 [==============================] - 0s 4ms/step - loss: 0.0797 - accuracy: 0.9554 - val_loss: 0.3031 - val_accuracy: 1.0000\n",
            "Epoch 64/100\n",
            "5/5 [==============================] - 0s 5ms/step - loss: 0.2642 - accuracy: 0.9427 - val_loss: 0.2881 - val_accuracy: 1.0000\n",
            "Epoch 65/100\n",
            "5/5 [==============================] - 0s 5ms/step - loss: 0.1932 - accuracy: 0.9172 - val_loss: 0.2688 - val_accuracy: 1.0000\n",
            "Epoch 66/100\n",
            "5/5 [==============================] - 0s 5ms/step - loss: 0.0984 - accuracy: 0.9682 - val_loss: 0.2617 - val_accuracy: 1.0000\n",
            "Epoch 67/100\n",
            "5/5 [==============================] - 0s 5ms/step - loss: 0.1623 - accuracy: 0.9299 - val_loss: 0.2652 - val_accuracy: 1.0000\n",
            "Epoch 68/100\n",
            "5/5 [==============================] - 0s 5ms/step - loss: 0.1153 - accuracy: 0.9682 - val_loss: 0.2638 - val_accuracy: 1.0000\n",
            "Epoch 69/100\n",
            "5/5 [==============================] - 0s 5ms/step - loss: 0.1209 - accuracy: 0.9427 - val_loss: 0.2521 - val_accuracy: 1.0000\n",
            "Epoch 70/100\n",
            "5/5 [==============================] - 0s 4ms/step - loss: 0.1356 - accuracy: 0.9682 - val_loss: 0.2461 - val_accuracy: 1.0000\n",
            "Epoch 71/100\n",
            "5/5 [==============================] - 0s 5ms/step - loss: 0.0906 - accuracy: 0.9682 - val_loss: 0.2354 - val_accuracy: 1.0000\n",
            "Epoch 72/100\n",
            "5/5 [==============================] - 0s 5ms/step - loss: 0.0694 - accuracy: 0.9809 - val_loss: 0.2229 - val_accuracy: 1.0000\n",
            "Epoch 73/100\n",
            "5/5 [==============================] - 0s 5ms/step - loss: 0.0949 - accuracy: 0.9682 - val_loss: 0.2075 - val_accuracy: 1.0000\n",
            "Epoch 74/100\n",
            "5/5 [==============================] - 0s 5ms/step - loss: 0.1077 - accuracy: 0.9745 - val_loss: 0.1922 - val_accuracy: 1.0000\n",
            "Epoch 75/100\n",
            "5/5 [==============================] - 0s 5ms/step - loss: 0.0971 - accuracy: 0.9682 - val_loss: 0.1782 - val_accuracy: 1.0000\n",
            "Epoch 76/100\n",
            "5/5 [==============================] - 0s 5ms/step - loss: 0.0752 - accuracy: 0.9809 - val_loss: 0.1723 - val_accuracy: 1.0000\n",
            "Epoch 77/100\n",
            "5/5 [==============================] - 0s 5ms/step - loss: 0.0915 - accuracy: 0.9554 - val_loss: 0.1671 - val_accuracy: 1.0000\n",
            "Epoch 78/100\n",
            "5/5 [==============================] - 0s 5ms/step - loss: 0.1190 - accuracy: 0.9490 - val_loss: 0.1679 - val_accuracy: 1.0000\n",
            "Epoch 79/100\n",
            "5/5 [==============================] - 0s 5ms/step - loss: 0.1516 - accuracy: 0.9363 - val_loss: 0.1692 - val_accuracy: 1.0000\n",
            "Epoch 80/100\n",
            "5/5 [==============================] - 0s 5ms/step - loss: 0.0675 - accuracy: 0.9618 - val_loss: 0.1609 - val_accuracy: 1.0000\n",
            "Epoch 81/100\n",
            "5/5 [==============================] - 0s 5ms/step - loss: 0.0509 - accuracy: 0.9873 - val_loss: 0.1497 - val_accuracy: 1.0000\n",
            "Epoch 82/100\n",
            "5/5 [==============================] - 0s 5ms/step - loss: 0.0761 - accuracy: 0.9745 - val_loss: 0.1434 - val_accuracy: 1.0000\n",
            "Epoch 83/100\n",
            "5/5 [==============================] - 0s 5ms/step - loss: 0.0612 - accuracy: 0.9873 - val_loss: 0.1414 - val_accuracy: 1.0000\n",
            "Epoch 84/100\n",
            "5/5 [==============================] - 0s 5ms/step - loss: 0.0571 - accuracy: 0.9809 - val_loss: 0.1370 - val_accuracy: 1.0000\n",
            "Epoch 85/100\n",
            "5/5 [==============================] - 0s 5ms/step - loss: 0.1083 - accuracy: 0.9554 - val_loss: 0.1354 - val_accuracy: 1.0000\n",
            "Epoch 86/100\n",
            "5/5 [==============================] - 0s 5ms/step - loss: 0.0468 - accuracy: 0.9809 - val_loss: 0.1249 - val_accuracy: 1.0000\n",
            "Epoch 87/100\n",
            "5/5 [==============================] - 0s 5ms/step - loss: 0.1218 - accuracy: 0.9618 - val_loss: 0.1106 - val_accuracy: 1.0000\n",
            "Epoch 88/100\n",
            "5/5 [==============================] - 0s 5ms/step - loss: 0.0646 - accuracy: 0.9682 - val_loss: 0.0979 - val_accuracy: 1.0000\n",
            "Epoch 89/100\n",
            "5/5 [==============================] - 0s 5ms/step - loss: 0.0923 - accuracy: 0.9682 - val_loss: 0.0875 - val_accuracy: 1.0000\n",
            "Epoch 90/100\n",
            "5/5 [==============================] - 0s 5ms/step - loss: 0.0713 - accuracy: 0.9873 - val_loss: 0.0872 - val_accuracy: 1.0000\n",
            "Epoch 91/100\n",
            "5/5 [==============================] - 0s 6ms/step - loss: 0.1012 - accuracy: 0.9682 - val_loss: 0.0902 - val_accuracy: 1.0000\n",
            "Epoch 92/100\n",
            "5/5 [==============================] - 0s 4ms/step - loss: 0.0408 - accuracy: 0.9809 - val_loss: 0.0878 - val_accuracy: 1.0000\n",
            "Epoch 93/100\n",
            "5/5 [==============================] - 0s 5ms/step - loss: 0.0702 - accuracy: 0.9809 - val_loss: 0.0829 - val_accuracy: 1.0000\n",
            "Epoch 94/100\n",
            "5/5 [==============================] - 0s 5ms/step - loss: 0.1708 - accuracy: 0.9682 - val_loss: 0.0800 - val_accuracy: 1.0000\n",
            "Epoch 95/100\n",
            "5/5 [==============================] - 0s 5ms/step - loss: 0.1207 - accuracy: 0.9427 - val_loss: 0.0690 - val_accuracy: 1.0000\n",
            "Epoch 96/100\n",
            "5/5 [==============================] - 0s 5ms/step - loss: 0.0975 - accuracy: 0.9554 - val_loss: 0.0678 - val_accuracy: 1.0000\n",
            "Epoch 97/100\n",
            "5/5 [==============================] - 0s 5ms/step - loss: 0.0577 - accuracy: 0.9873 - val_loss: 0.0669 - val_accuracy: 1.0000\n",
            "Epoch 98/100\n",
            "5/5 [==============================] - 0s 5ms/step - loss: 0.0273 - accuracy: 1.0000 - val_loss: 0.0630 - val_accuracy: 1.0000\n",
            "Epoch 99/100\n",
            "5/5 [==============================] - 0s 5ms/step - loss: 0.0803 - accuracy: 0.9809 - val_loss: 0.0619 - val_accuracy: 1.0000\n",
            "Epoch 100/100\n",
            "5/5 [==============================] - 0s 4ms/step - loss: 0.0632 - accuracy: 0.9682 - val_loss: 0.0518 - val_accuracy: 1.0000\n",
            "2/2 [==============================] - 0s 1ms/step - loss: 0.5312 - accuracy: 0.8095\n"
          ],
          "name": "stdout"
        }
      ]
    },
    {
      "cell_type": "code",
      "metadata": {
        "id": "auburn-stations",
        "outputId": "9f157487-35d2-45df-eb71-15dbf61aa291"
      },
      "source": [
        "\n",
        "MODEL_DIR = '/home/prop/Документы/HW/35/sonar'# создание временной директории для хранения модели\n",
        "version = 1  # номер нашей версии\n",
        "export_path = os.path.join(MODEL_DIR, str(version)) \n",
        "print('Путь для экспорта = {}\\n'.format(export_path))"
      ],
      "id": "auburn-stations",
      "execution_count": null,
      "outputs": [
        {
          "output_type": "stream",
          "text": [
            "Путь для экспорта = /home/prop/Документы/HW/35/sonar/1\n",
            "\n"
          ],
          "name": "stdout"
        }
      ]
    },
    {
      "cell_type": "code",
      "metadata": {
        "scrolled": true,
        "id": "demonstrated-nebraska",
        "outputId": "02f686c0-1ce4-45b9-d23f-f19c9c2ae6c6"
      },
      "source": [
        "\n",
        "tensorflow.keras.models.save_model(\n",
        "    model,\n",
        "    export_path,\n",
        "    overwrite=True,\n",
        "    include_optimizer=True,\n",
        "    save_format=None,\n",
        "    signatures=None,\n",
        "    options=None\n",
        ")\n",
        "\n",
        "print('\\nСохраненная модель:')\n",
        "!pkexec ls -l {export_path}"
      ],
      "id": "demonstrated-nebraska",
      "execution_count": null,
      "outputs": [
        {
          "output_type": "stream",
          "text": [
            "WARNING:tensorflow:From /home/prop/anaconda3/envs/dz34_4/lib/python3.7/site-packages/tensorflow/python/training/tracking/tracking.py:111: Model.state_updates (from tensorflow.python.keras.engine.training) is deprecated and will be removed in a future version.\n",
            "Instructions for updating:\n",
            "This property should not be used in TensorFlow 2.0, as updates are applied automatically.\n",
            "WARNING:tensorflow:From /home/prop/anaconda3/envs/dz34_4/lib/python3.7/site-packages/tensorflow/python/training/tracking/tracking.py:111: Layer.updates (from tensorflow.python.keras.engine.base_layer) is deprecated and will be removed in a future version.\n",
            "Instructions for updating:\n",
            "This property should not be used in TensorFlow 2.0, as updates are applied automatically.\n",
            "INFO:tensorflow:Assets written to: /home/prop/Документы/HW/35/sonar/1/assets\n",
            "\n",
            "Сохраненная модель:\n",
            "итого 296\n",
            "drwxr-xr-x 2 prop prop   4096 фев 16 00:12 assets\n",
            "-rw-rw-r-- 1 prop prop 291990 фев 16 00:12 saved_model.pb\n",
            "drwxr-xr-x 2 prop prop   4096 фев 16 00:12 variables\n"
          ],
          "name": "stdout"
        }
      ]
    },
    {
      "cell_type": "code",
      "metadata": {
        "scrolled": false,
        "id": "tired-sampling",
        "outputId": "f183a0b5-befd-4087-a085-e737bd482ddb"
      },
      "source": [
        "\n",
        "data = json.dumps({\"instances\": x_test[0:1].tolist()})\n",
        "\n",
        "headers = {\"content-type\": \"application/json\"}\n",
        "json_response = requests.post('http://localhost:8501/v1/models/sonar:predict', data=data, headers=headers)\n",
        "\n",
        "\n",
        "print( json.loads(json_response.text))\n"
      ],
      "id": "tired-sampling",
      "execution_count": null,
      "outputs": [
        {
          "output_type": "stream",
          "text": [
            "{'predictions': [[0.937156498]]}\n"
          ],
          "name": "stdout"
        }
      ]
    },
    {
      "cell_type": "code",
      "metadata": {
        "id": "significant-korean",
        "outputId": "648d9a63-54f9-4af6-a8cc-9415bfe3d28d"
      },
      "source": [
        "\n",
        "predictions = json.loads(json_response.text)['predictions']\n",
        "print('predict: ', predictions[0], 'fact:', y_test[0])"
      ],
      "id": "significant-korean",
      "execution_count": null,
      "outputs": [
        {
          "output_type": "stream",
          "text": [
            "predict:  [0.937156498] fact: 1\n"
          ],
          "name": "stdout"
        }
      ]
    },
    {
      "cell_type": "code",
      "metadata": {
        "id": "known-difference"
      },
      "source": [
        "# предсказание 0,93, факт - 1, сеть правильно определила мину"
      ],
      "id": "known-difference",
      "execution_count": null,
      "outputs": []
    }
  ]
}